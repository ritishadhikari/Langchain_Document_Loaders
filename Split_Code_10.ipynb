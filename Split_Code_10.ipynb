{
 "cells": [
  {
   "cell_type": "code",
   "execution_count": 6,
   "id": "581d7bce-3f66-4815-a158-8e872f515e89",
   "metadata": {},
   "outputs": [],
   "source": [
    "from dotenv import load_dotenv,find_dotenv\n",
    "from langchain_google_genai import ChatGoogleGenerativeAI\n",
    "from langchain_openai import ChatOpenAI\n",
    "from pathlib import Path\n",
    "\n",
    "from langchain_text_splitters import Language ,RecursiveCharacterTextSplitter\n",
    "from langchain_community.document_loaders import TextLoader"
   ]
  },
  {
   "cell_type": "code",
   "execution_count": 3,
   "id": "0bf37c64-73d6-474c-98e8-4944ce8b7ff7",
   "metadata": {
    "scrolled": true
   },
   "outputs": [
    {
     "data": {
      "text/plain": [
       "['cpp',\n",
       " 'go',\n",
       " 'java',\n",
       " 'kotlin',\n",
       " 'js',\n",
       " 'ts',\n",
       " 'php',\n",
       " 'proto',\n",
       " 'python',\n",
       " 'rst',\n",
       " 'ruby',\n",
       " 'rust',\n",
       " 'scala',\n",
       " 'swift',\n",
       " 'markdown',\n",
       " 'latex',\n",
       " 'html',\n",
       " 'sol',\n",
       " 'csharp',\n",
       " 'cobol',\n",
       " 'c',\n",
       " 'lua',\n",
       " 'perl',\n",
       " 'haskell',\n",
       " 'elixir',\n",
       " 'powershell']"
      ]
     },
     "execution_count": 3,
     "metadata": {},
     "output_type": "execute_result"
    }
   ],
   "source": [
    "[e.value for e in  Language]"
   ]
  },
  {
   "cell_type": "code",
   "execution_count": 10,
   "id": "9801b4df-281f-40b6-89d1-067795ee936a",
   "metadata": {},
   "outputs": [],
   "source": [
    "pythonCodePath=Path(\"data\").joinpath(\"codefiles\").joinpath(\"28_Find_the_Index_of_the_First_Occurrence_in_a_String.py\")"
   ]
  },
  {
   "cell_type": "code",
   "execution_count": 11,
   "id": "b60aa4e3-3a15-45e1-84ee-dc97aed2938b",
   "metadata": {},
   "outputs": [
    {
     "data": {
      "text/plain": [
       "WindowsPath('data/codefiles/28_Find_the_Index_of_the_First_Occurrence_in_a_String.py')"
      ]
     },
     "execution_count": 11,
     "metadata": {},
     "output_type": "execute_result"
    }
   ],
   "source": [
    "pythonCodePath"
   ]
  },
  {
   "cell_type": "code",
   "execution_count": 12,
   "id": "0e95404a-ec9b-4118-8363-929510749b50",
   "metadata": {},
   "outputs": [],
   "source": [
    "textDoc=TextLoader(file_path=pythonCodePath)"
   ]
  },
  {
   "cell_type": "code",
   "execution_count": 13,
   "id": "0facb984-ddd0-4095-a4be-b950702cf167",
   "metadata": {},
   "outputs": [],
   "source": [
    "loadedDoc=textDoc.load()"
   ]
  },
  {
   "cell_type": "code",
   "execution_count": 18,
   "id": "41f7403f-60de-4042-ac02-85ff908f7347",
   "metadata": {},
   "outputs": [
    {
     "name": "stdout",
     "output_type": "stream",
     "text": [
      "class Solution:\n",
      "    def strStr(self, haystack: str, needle: str) -> int:\n",
      "        for j,s in enumerate(haystack):\n",
      "            if s==needle[0] and haystack[j:j+len(needle)]==needle:\n",
      "                return j\n",
      "        return -1\n",
      "\n",
      "\n",
      "if __name__==\"__main__\":\n",
      "    haystack = \"mississippi\"\n",
      "    needle = \"issip\"\n",
      "    print(Solution().strStr(haystack=haystack,needle=needle))\n"
     ]
    }
   ],
   "source": [
    "print(loadedDoc[0].page_content)"
   ]
  },
  {
   "cell_type": "code",
   "execution_count": 15,
   "id": "7ce2b0c9-754a-4239-a950-d97c281d39b0",
   "metadata": {},
   "outputs": [],
   "source": [
    "pythonSplitter=RecursiveCharacterTextSplitter.from_language(language=Language.PYTHON,chunk_size=50,chunk_overlap=0)"
   ]
  },
  {
   "cell_type": "code",
   "execution_count": 19,
   "id": "b0da56a7-594b-474d-98b1-429418416f74",
   "metadata": {},
   "outputs": [
    {
     "data": {
      "text/plain": [
       "[Document(metadata={'source': 'data\\\\codefiles\\\\28_Find_the_Index_of_the_First_Occurrence_in_a_String.py'}, page_content='class Solution:'),\n",
       " Document(metadata={'source': 'data\\\\codefiles\\\\28_Find_the_Index_of_the_First_Occurrence_in_a_String.py'}, page_content='def strStr(self, haystack: str, needle: str)'),\n",
       " Document(metadata={'source': 'data\\\\codefiles\\\\28_Find_the_Index_of_the_First_Occurrence_in_a_String.py'}, page_content='-> int:'),\n",
       " Document(metadata={'source': 'data\\\\codefiles\\\\28_Find_the_Index_of_the_First_Occurrence_in_a_String.py'}, page_content='for j,s in enumerate(haystack):'),\n",
       " Document(metadata={'source': 'data\\\\codefiles\\\\28_Find_the_Index_of_the_First_Occurrence_in_a_String.py'}, page_content='if s==needle[0] and'),\n",
       " Document(metadata={'source': 'data\\\\codefiles\\\\28_Find_the_Index_of_the_First_Occurrence_in_a_String.py'}, page_content='haystack[j:j+len(needle)]==needle:'),\n",
       " Document(metadata={'source': 'data\\\\codefiles\\\\28_Find_the_Index_of_the_First_Occurrence_in_a_String.py'}, page_content='return j\\n        return -1'),\n",
       " Document(metadata={'source': 'data\\\\codefiles\\\\28_Find_the_Index_of_the_First_Occurrence_in_a_String.py'}, page_content='if __name__==\"__main__\":'),\n",
       " Document(metadata={'source': 'data\\\\codefiles\\\\28_Find_the_Index_of_the_First_Occurrence_in_a_String.py'}, page_content='haystack = \"mississippi\"\\n    needle = \"issip\"'),\n",
       " Document(metadata={'source': 'data\\\\codefiles\\\\28_Find_the_Index_of_the_First_Occurrence_in_a_String.py'}, page_content='print(Solution().strStr(haystack=haystack,needle='),\n",
       " Document(metadata={'source': 'data\\\\codefiles\\\\28_Find_the_Index_of_the_First_Occurrence_in_a_String.py'}, page_content='needle))')]"
      ]
     },
     "execution_count": 19,
     "metadata": {},
     "output_type": "execute_result"
    }
   ],
   "source": [
    "pythonSplitter.split_documents(documents=loadedDoc)"
   ]
  },
  {
   "cell_type": "code",
   "execution_count": null,
   "id": "4743a984-1004-45ad-b392-147656652472",
   "metadata": {},
   "outputs": [],
   "source": []
  }
 ],
 "metadata": {
  "kernelspec": {
   "display_name": "Python 3 (ipykernel)",
   "language": "python",
   "name": "python3"
  },
  "language_info": {
   "codemirror_mode": {
    "name": "ipython",
    "version": 3
   },
   "file_extension": ".py",
   "mimetype": "text/x-python",
   "name": "python",
   "nbconvert_exporter": "python",
   "pygments_lexer": "ipython3",
   "version": "3.11.9"
  }
 },
 "nbformat": 4,
 "nbformat_minor": 5
}
