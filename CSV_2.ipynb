{
 "cells": [
  {
   "cell_type": "code",
   "execution_count": 4,
   "id": "e2bbcc4d-19a3-4793-b88e-9ad5a3a59c69",
   "metadata": {},
   "outputs": [],
   "source": [
    "from dotenv import load_dotenv,find_dotenv\n",
    "from langchain_google_genai import ChatGoogleGenerativeAI\n",
    "from langchain_openai import ChatOpenAI\n",
    "from pathlib import Path\n",
    "\n",
    "from langchain_community.document_loaders.csv_loader import CSVLoader"
   ]
  },
  {
   "cell_type": "code",
   "execution_count": 2,
   "id": "4d1a25fc-8bca-487f-8cd7-b8a7c84147a8",
   "metadata": {},
   "outputs": [],
   "source": [
    "dataPath=Path(\"data\").joinpath(\"mlb_teams_2012.csv\")"
   ]
  },
  {
   "cell_type": "code",
   "execution_count": 5,
   "id": "42621fda-84af-4bd2-b4f4-5dd65377b33c",
   "metadata": {},
   "outputs": [],
   "source": [
    "loader=CSVLoader(file_path=dataPath)"
   ]
  },
  {
   "cell_type": "code",
   "execution_count": 6,
   "id": "9e935f59-fe3f-4ead-aa43-badac25b2fbf",
   "metadata": {},
   "outputs": [],
   "source": [
    "data=loader.load()"
   ]
  },
  {
   "cell_type": "code",
   "execution_count": 7,
   "id": "74eb4eda-1f82-4abc-ae95-a1532139f420",
   "metadata": {},
   "outputs": [
    {
     "data": {
      "text/plain": [
       "[Document(metadata={'source': 'data\\\\mlb_teams_2012.csv', 'row': 0}, page_content='Team: Nationals\\n\"Payroll (millions)\": 81.34\\n\"Wins\": 98'),\n",
       " Document(metadata={'source': 'data\\\\mlb_teams_2012.csv', 'row': 1}, page_content='Team: Reds\\n\"Payroll (millions)\": 82.20\\n\"Wins\": 97'),\n",
       " Document(metadata={'source': 'data\\\\mlb_teams_2012.csv', 'row': 2}, page_content='Team: Yankees\\n\"Payroll (millions)\": 197.96\\n\"Wins\": 95'),\n",
       " Document(metadata={'source': 'data\\\\mlb_teams_2012.csv', 'row': 3}, page_content='Team: Giants\\n\"Payroll (millions)\": 117.62\\n\"Wins\": 94'),\n",
       " Document(metadata={'source': 'data\\\\mlb_teams_2012.csv', 'row': 4}, page_content='Team: Braves\\n\"Payroll (millions)\": 83.31\\n\"Wins\": 94'),\n",
       " Document(metadata={'source': 'data\\\\mlb_teams_2012.csv', 'row': 5}, page_content='Team: Athletics\\n\"Payroll (millions)\": 55.37\\n\"Wins\": 94'),\n",
       " Document(metadata={'source': 'data\\\\mlb_teams_2012.csv', 'row': 6}, page_content='Team: Rangers\\n\"Payroll (millions)\": 120.51\\n\"Wins\": 93'),\n",
       " Document(metadata={'source': 'data\\\\mlb_teams_2012.csv', 'row': 7}, page_content='Team: Orioles\\n\"Payroll (millions)\": 81.43\\n\"Wins\": 93'),\n",
       " Document(metadata={'source': 'data\\\\mlb_teams_2012.csv', 'row': 8}, page_content='Team: Rays\\n\"Payroll (millions)\": 64.17\\n\"Wins\": 90'),\n",
       " Document(metadata={'source': 'data\\\\mlb_teams_2012.csv', 'row': 9}, page_content='Team: Angels\\n\"Payroll (millions)\": 154.49\\n\"Wins\": 89'),\n",
       " Document(metadata={'source': 'data\\\\mlb_teams_2012.csv', 'row': 10}, page_content='Team: Tigers\\n\"Payroll (millions)\": 132.30\\n\"Wins\": 88'),\n",
       " Document(metadata={'source': 'data\\\\mlb_teams_2012.csv', 'row': 11}, page_content='Team: Cardinals\\n\"Payroll (millions)\": 110.30\\n\"Wins\": 88'),\n",
       " Document(metadata={'source': 'data\\\\mlb_teams_2012.csv', 'row': 12}, page_content='Team: Dodgers\\n\"Payroll (millions)\": 95.14\\n\"Wins\": 86'),\n",
       " Document(metadata={'source': 'data\\\\mlb_teams_2012.csv', 'row': 13}, page_content='Team: White Sox\\n\"Payroll (millions)\": 96.92\\n\"Wins\": 85'),\n",
       " Document(metadata={'source': 'data\\\\mlb_teams_2012.csv', 'row': 14}, page_content='Team: Brewers\\n\"Payroll (millions)\": 97.65\\n\"Wins\": 83'),\n",
       " Document(metadata={'source': 'data\\\\mlb_teams_2012.csv', 'row': 15}, page_content='Team: Phillies\\n\"Payroll (millions)\": 174.54\\n\"Wins\": 81'),\n",
       " Document(metadata={'source': 'data\\\\mlb_teams_2012.csv', 'row': 16}, page_content='Team: Diamondbacks\\n\"Payroll (millions)\": 74.28\\n\"Wins\": 81'),\n",
       " Document(metadata={'source': 'data\\\\mlb_teams_2012.csv', 'row': 17}, page_content='Team: Pirates\\n\"Payroll (millions)\": 63.43\\n\"Wins\": 79'),\n",
       " Document(metadata={'source': 'data\\\\mlb_teams_2012.csv', 'row': 18}, page_content='Team: Padres\\n\"Payroll (millions)\": 55.24\\n\"Wins\": 76'),\n",
       " Document(metadata={'source': 'data\\\\mlb_teams_2012.csv', 'row': 19}, page_content='Team: Mariners\\n\"Payroll (millions)\": 81.97\\n\"Wins\": 75'),\n",
       " Document(metadata={'source': 'data\\\\mlb_teams_2012.csv', 'row': 20}, page_content='Team: Mets\\n\"Payroll (millions)\": 93.35\\n\"Wins\": 74'),\n",
       " Document(metadata={'source': 'data\\\\mlb_teams_2012.csv', 'row': 21}, page_content='Team: Blue Jays\\n\"Payroll (millions)\": 75.48\\n\"Wins\": 73'),\n",
       " Document(metadata={'source': 'data\\\\mlb_teams_2012.csv', 'row': 22}, page_content='Team: Royals\\n\"Payroll (millions)\": 60.91\\n\"Wins\": 72'),\n",
       " Document(metadata={'source': 'data\\\\mlb_teams_2012.csv', 'row': 23}, page_content='Team: Marlins\\n\"Payroll (millions)\": 118.07\\n\"Wins\": 69'),\n",
       " Document(metadata={'source': 'data\\\\mlb_teams_2012.csv', 'row': 24}, page_content='Team: Red Sox\\n\"Payroll (millions)\": 173.18\\n\"Wins\": 69'),\n",
       " Document(metadata={'source': 'data\\\\mlb_teams_2012.csv', 'row': 25}, page_content='Team: Indians\\n\"Payroll (millions)\": 78.43\\n\"Wins\": 68'),\n",
       " Document(metadata={'source': 'data\\\\mlb_teams_2012.csv', 'row': 26}, page_content='Team: Twins\\n\"Payroll (millions)\": 94.08\\n\"Wins\": 66'),\n",
       " Document(metadata={'source': 'data\\\\mlb_teams_2012.csv', 'row': 27}, page_content='Team: Rockies\\n\"Payroll (millions)\": 78.06\\n\"Wins\": 64'),\n",
       " Document(metadata={'source': 'data\\\\mlb_teams_2012.csv', 'row': 28}, page_content='Team: Cubs\\n\"Payroll (millions)\": 88.19\\n\"Wins\": 61'),\n",
       " Document(metadata={'source': 'data\\\\mlb_teams_2012.csv', 'row': 29}, page_content='Team: Astros\\n\"Payroll (millions)\": 60.65\\n\"Wins\": 55')]"
      ]
     },
     "execution_count": 7,
     "metadata": {},
     "output_type": "execute_result"
    }
   ],
   "source": [
    "data"
   ]
  },
  {
   "cell_type": "markdown",
   "id": "e9572623-ea93-478e-a99e-8819fbbd6af5",
   "metadata": {},
   "source": [
    "<h3>Customizing CSV Parsing and Loading</h3>"
   ]
  },
  {
   "cell_type": "code",
   "execution_count": 20,
   "id": "ffaac5ba-28a3-4b78-bf17-fa21c91e742f",
   "metadata": {},
   "outputs": [],
   "source": [
    "loader=CSVLoader(file_path=dataPath,\n",
    "                 csv_args={\"delimiter\":\",\",\n",
    "                           \"quotechar\":'\"',\n",
    "                           \"fieldnames\":[\"MLB Team\",\"Payroll in Millions\",\"Wins\"]\n",
    "})"
   ]
  },
  {
   "cell_type": "code",
   "execution_count": 28,
   "id": "b851f91f-186e-410e-a828-96baa133e7cc",
   "metadata": {
    "scrolled": true
   },
   "outputs": [
    {
     "name": "stdout",
     "output_type": "stream",
     "text": [
      "page_content='MLB Team: Team\n",
      "Payroll in Millions: \"Payroll (millions)\"\n",
      "Wins: \"Wins\"' metadata={'source': 'data\\\\mlb_teams_2012.csv', 'row': 0}\n",
      "\n",
      "\n",
      "page_content='MLB Team: Nationals\n",
      "Payroll in Millions: 81.34\n",
      "Wins: 98' metadata={'source': 'data\\\\mlb_teams_2012.csv', 'row': 1}\n",
      "\n",
      "\n",
      "page_content='MLB Team: Reds\n",
      "Payroll in Millions: 82.20\n",
      "Wins: 97' metadata={'source': 'data\\\\mlb_teams_2012.csv', 'row': 2}\n",
      "\n",
      "\n",
      "page_content='MLB Team: Yankees\n",
      "Payroll in Millions: 197.96\n",
      "Wins: 95' metadata={'source': 'data\\\\mlb_teams_2012.csv', 'row': 3}\n",
      "\n",
      "\n",
      "page_content='MLB Team: Giants\n",
      "Payroll in Millions: 117.62\n",
      "Wins: 94' metadata={'source': 'data\\\\mlb_teams_2012.csv', 'row': 4}\n",
      "\n",
      "\n",
      "page_content='MLB Team: Braves\n",
      "Payroll in Millions: 83.31\n",
      "Wins: 94' metadata={'source': 'data\\\\mlb_teams_2012.csv', 'row': 5}\n",
      "\n",
      "\n",
      "page_content='MLB Team: Athletics\n",
      "Payroll in Millions: 55.37\n",
      "Wins: 94' metadata={'source': 'data\\\\mlb_teams_2012.csv', 'row': 6}\n",
      "\n",
      "\n",
      "page_content='MLB Team: Rangers\n",
      "Payroll in Millions: 120.51\n",
      "Wins: 93' metadata={'source': 'data\\\\mlb_teams_2012.csv', 'row': 7}\n",
      "\n",
      "\n",
      "page_content='MLB Team: Orioles\n",
      "Payroll in Millions: 81.43\n",
      "Wins: 93' metadata={'source': 'data\\\\mlb_teams_2012.csv', 'row': 8}\n",
      "\n",
      "\n",
      "page_content='MLB Team: Rays\n",
      "Payroll in Millions: 64.17\n",
      "Wins: 90' metadata={'source': 'data\\\\mlb_teams_2012.csv', 'row': 9}\n",
      "\n",
      "\n",
      "page_content='MLB Team: Angels\n",
      "Payroll in Millions: 154.49\n",
      "Wins: 89' metadata={'source': 'data\\\\mlb_teams_2012.csv', 'row': 10}\n",
      "\n",
      "\n",
      "page_content='MLB Team: Tigers\n",
      "Payroll in Millions: 132.30\n",
      "Wins: 88' metadata={'source': 'data\\\\mlb_teams_2012.csv', 'row': 11}\n",
      "\n",
      "\n",
      "page_content='MLB Team: Cardinals\n",
      "Payroll in Millions: 110.30\n",
      "Wins: 88' metadata={'source': 'data\\\\mlb_teams_2012.csv', 'row': 12}\n",
      "\n",
      "\n",
      "page_content='MLB Team: Dodgers\n",
      "Payroll in Millions: 95.14\n",
      "Wins: 86' metadata={'source': 'data\\\\mlb_teams_2012.csv', 'row': 13}\n",
      "\n",
      "\n",
      "page_content='MLB Team: White Sox\n",
      "Payroll in Millions: 96.92\n",
      "Wins: 85' metadata={'source': 'data\\\\mlb_teams_2012.csv', 'row': 14}\n",
      "\n",
      "\n",
      "page_content='MLB Team: Brewers\n",
      "Payroll in Millions: 97.65\n",
      "Wins: 83' metadata={'source': 'data\\\\mlb_teams_2012.csv', 'row': 15}\n",
      "\n",
      "\n",
      "page_content='MLB Team: Phillies\n",
      "Payroll in Millions: 174.54\n",
      "Wins: 81' metadata={'source': 'data\\\\mlb_teams_2012.csv', 'row': 16}\n",
      "\n",
      "\n",
      "page_content='MLB Team: Diamondbacks\n",
      "Payroll in Millions: 74.28\n",
      "Wins: 81' metadata={'source': 'data\\\\mlb_teams_2012.csv', 'row': 17}\n",
      "\n",
      "\n",
      "page_content='MLB Team: Pirates\n",
      "Payroll in Millions: 63.43\n",
      "Wins: 79' metadata={'source': 'data\\\\mlb_teams_2012.csv', 'row': 18}\n",
      "\n",
      "\n",
      "page_content='MLB Team: Padres\n",
      "Payroll in Millions: 55.24\n",
      "Wins: 76' metadata={'source': 'data\\\\mlb_teams_2012.csv', 'row': 19}\n",
      "\n",
      "\n",
      "page_content='MLB Team: Mariners\n",
      "Payroll in Millions: 81.97\n",
      "Wins: 75' metadata={'source': 'data\\\\mlb_teams_2012.csv', 'row': 20}\n",
      "\n",
      "\n",
      "page_content='MLB Team: Mets\n",
      "Payroll in Millions: 93.35\n",
      "Wins: 74' metadata={'source': 'data\\\\mlb_teams_2012.csv', 'row': 21}\n",
      "\n",
      "\n",
      "page_content='MLB Team: Blue Jays\n",
      "Payroll in Millions: 75.48\n",
      "Wins: 73' metadata={'source': 'data\\\\mlb_teams_2012.csv', 'row': 22}\n",
      "\n",
      "\n",
      "page_content='MLB Team: Royals\n",
      "Payroll in Millions: 60.91\n",
      "Wins: 72' metadata={'source': 'data\\\\mlb_teams_2012.csv', 'row': 23}\n",
      "\n",
      "\n",
      "page_content='MLB Team: Marlins\n",
      "Payroll in Millions: 118.07\n",
      "Wins: 69' metadata={'source': 'data\\\\mlb_teams_2012.csv', 'row': 24}\n",
      "\n",
      "\n",
      "page_content='MLB Team: Red Sox\n",
      "Payroll in Millions: 173.18\n",
      "Wins: 69' metadata={'source': 'data\\\\mlb_teams_2012.csv', 'row': 25}\n",
      "\n",
      "\n",
      "page_content='MLB Team: Indians\n",
      "Payroll in Millions: 78.43\n",
      "Wins: 68' metadata={'source': 'data\\\\mlb_teams_2012.csv', 'row': 26}\n",
      "\n",
      "\n",
      "page_content='MLB Team: Twins\n",
      "Payroll in Millions: 94.08\n",
      "Wins: 66' metadata={'source': 'data\\\\mlb_teams_2012.csv', 'row': 27}\n",
      "\n",
      "\n",
      "page_content='MLB Team: Rockies\n",
      "Payroll in Millions: 78.06\n",
      "Wins: 64' metadata={'source': 'data\\\\mlb_teams_2012.csv', 'row': 28}\n",
      "\n",
      "\n",
      "page_content='MLB Team: Cubs\n",
      "Payroll in Millions: 88.19\n",
      "Wins: 61' metadata={'source': 'data\\\\mlb_teams_2012.csv', 'row': 29}\n",
      "\n",
      "\n",
      "page_content='MLB Team: Astros\n",
      "Payroll in Millions: 60.65\n",
      "Wins: 55' metadata={'source': 'data\\\\mlb_teams_2012.csv', 'row': 30}\n",
      "\n",
      "\n"
     ]
    }
   ],
   "source": [
    "for l in loader.lazy_load():\n",
    "    print(l)\n",
    "    print(\"\\n\")"
   ]
  },
  {
   "cell_type": "code",
   "execution_count": 29,
   "id": "e718e07b-9627-4ba5-9dd5-abe960b89068",
   "metadata": {},
   "outputs": [],
   "source": [
    "data=loader.load()"
   ]
  },
  {
   "cell_type": "code",
   "execution_count": 30,
   "id": "839ee6d7-a3b9-4010-a87a-657e79eec3cb",
   "metadata": {
    "scrolled": true
   },
   "outputs": [
    {
     "data": {
      "text/plain": [
       "[Document(metadata={'source': 'data\\\\mlb_teams_2012.csv', 'row': 0}, page_content='MLB Team: Team\\nPayroll in Millions: \"Payroll (millions)\"\\nWins: \"Wins\"'),\n",
       " Document(metadata={'source': 'data\\\\mlb_teams_2012.csv', 'row': 1}, page_content='MLB Team: Nationals\\nPayroll in Millions: 81.34\\nWins: 98'),\n",
       " Document(metadata={'source': 'data\\\\mlb_teams_2012.csv', 'row': 2}, page_content='MLB Team: Reds\\nPayroll in Millions: 82.20\\nWins: 97'),\n",
       " Document(metadata={'source': 'data\\\\mlb_teams_2012.csv', 'row': 3}, page_content='MLB Team: Yankees\\nPayroll in Millions: 197.96\\nWins: 95'),\n",
       " Document(metadata={'source': 'data\\\\mlb_teams_2012.csv', 'row': 4}, page_content='MLB Team: Giants\\nPayroll in Millions: 117.62\\nWins: 94'),\n",
       " Document(metadata={'source': 'data\\\\mlb_teams_2012.csv', 'row': 5}, page_content='MLB Team: Braves\\nPayroll in Millions: 83.31\\nWins: 94'),\n",
       " Document(metadata={'source': 'data\\\\mlb_teams_2012.csv', 'row': 6}, page_content='MLB Team: Athletics\\nPayroll in Millions: 55.37\\nWins: 94'),\n",
       " Document(metadata={'source': 'data\\\\mlb_teams_2012.csv', 'row': 7}, page_content='MLB Team: Rangers\\nPayroll in Millions: 120.51\\nWins: 93'),\n",
       " Document(metadata={'source': 'data\\\\mlb_teams_2012.csv', 'row': 8}, page_content='MLB Team: Orioles\\nPayroll in Millions: 81.43\\nWins: 93'),\n",
       " Document(metadata={'source': 'data\\\\mlb_teams_2012.csv', 'row': 9}, page_content='MLB Team: Rays\\nPayroll in Millions: 64.17\\nWins: 90'),\n",
       " Document(metadata={'source': 'data\\\\mlb_teams_2012.csv', 'row': 10}, page_content='MLB Team: Angels\\nPayroll in Millions: 154.49\\nWins: 89'),\n",
       " Document(metadata={'source': 'data\\\\mlb_teams_2012.csv', 'row': 11}, page_content='MLB Team: Tigers\\nPayroll in Millions: 132.30\\nWins: 88'),\n",
       " Document(metadata={'source': 'data\\\\mlb_teams_2012.csv', 'row': 12}, page_content='MLB Team: Cardinals\\nPayroll in Millions: 110.30\\nWins: 88'),\n",
       " Document(metadata={'source': 'data\\\\mlb_teams_2012.csv', 'row': 13}, page_content='MLB Team: Dodgers\\nPayroll in Millions: 95.14\\nWins: 86'),\n",
       " Document(metadata={'source': 'data\\\\mlb_teams_2012.csv', 'row': 14}, page_content='MLB Team: White Sox\\nPayroll in Millions: 96.92\\nWins: 85'),\n",
       " Document(metadata={'source': 'data\\\\mlb_teams_2012.csv', 'row': 15}, page_content='MLB Team: Brewers\\nPayroll in Millions: 97.65\\nWins: 83'),\n",
       " Document(metadata={'source': 'data\\\\mlb_teams_2012.csv', 'row': 16}, page_content='MLB Team: Phillies\\nPayroll in Millions: 174.54\\nWins: 81'),\n",
       " Document(metadata={'source': 'data\\\\mlb_teams_2012.csv', 'row': 17}, page_content='MLB Team: Diamondbacks\\nPayroll in Millions: 74.28\\nWins: 81'),\n",
       " Document(metadata={'source': 'data\\\\mlb_teams_2012.csv', 'row': 18}, page_content='MLB Team: Pirates\\nPayroll in Millions: 63.43\\nWins: 79'),\n",
       " Document(metadata={'source': 'data\\\\mlb_teams_2012.csv', 'row': 19}, page_content='MLB Team: Padres\\nPayroll in Millions: 55.24\\nWins: 76'),\n",
       " Document(metadata={'source': 'data\\\\mlb_teams_2012.csv', 'row': 20}, page_content='MLB Team: Mariners\\nPayroll in Millions: 81.97\\nWins: 75'),\n",
       " Document(metadata={'source': 'data\\\\mlb_teams_2012.csv', 'row': 21}, page_content='MLB Team: Mets\\nPayroll in Millions: 93.35\\nWins: 74'),\n",
       " Document(metadata={'source': 'data\\\\mlb_teams_2012.csv', 'row': 22}, page_content='MLB Team: Blue Jays\\nPayroll in Millions: 75.48\\nWins: 73'),\n",
       " Document(metadata={'source': 'data\\\\mlb_teams_2012.csv', 'row': 23}, page_content='MLB Team: Royals\\nPayroll in Millions: 60.91\\nWins: 72'),\n",
       " Document(metadata={'source': 'data\\\\mlb_teams_2012.csv', 'row': 24}, page_content='MLB Team: Marlins\\nPayroll in Millions: 118.07\\nWins: 69'),\n",
       " Document(metadata={'source': 'data\\\\mlb_teams_2012.csv', 'row': 25}, page_content='MLB Team: Red Sox\\nPayroll in Millions: 173.18\\nWins: 69'),\n",
       " Document(metadata={'source': 'data\\\\mlb_teams_2012.csv', 'row': 26}, page_content='MLB Team: Indians\\nPayroll in Millions: 78.43\\nWins: 68'),\n",
       " Document(metadata={'source': 'data\\\\mlb_teams_2012.csv', 'row': 27}, page_content='MLB Team: Twins\\nPayroll in Millions: 94.08\\nWins: 66'),\n",
       " Document(metadata={'source': 'data\\\\mlb_teams_2012.csv', 'row': 28}, page_content='MLB Team: Rockies\\nPayroll in Millions: 78.06\\nWins: 64'),\n",
       " Document(metadata={'source': 'data\\\\mlb_teams_2012.csv', 'row': 29}, page_content='MLB Team: Cubs\\nPayroll in Millions: 88.19\\nWins: 61'),\n",
       " Document(metadata={'source': 'data\\\\mlb_teams_2012.csv', 'row': 30}, page_content='MLB Team: Astros\\nPayroll in Millions: 60.65\\nWins: 55')]"
      ]
     },
     "execution_count": 30,
     "metadata": {},
     "output_type": "execute_result"
    }
   ],
   "source": [
    "data"
   ]
  },
  {
   "cell_type": "markdown",
   "id": "e87f5a90-2a7e-46bb-b048-89b8f272c8ca",
   "metadata": {},
   "source": [
    "<h3>Specifying Column to identify the Data Source</h3>"
   ]
  },
  {
   "cell_type": "code",
   "execution_count": 31,
   "id": "a357372b-0a6f-47c4-bd57-19d020e8311a",
   "metadata": {},
   "outputs": [],
   "source": [
    "loader=CSVLoader(file_path=dataPath,source_column=\"Team\")"
   ]
  },
  {
   "cell_type": "code",
   "execution_count": 33,
   "id": "b17ac5a8-8d4a-4790-b48a-57eceb5c37c4",
   "metadata": {},
   "outputs": [],
   "source": [
    "data=loader.load()"
   ]
  },
  {
   "cell_type": "code",
   "execution_count": 34,
   "id": "74170d47-6c51-4dc6-8c05-51c04be9569d",
   "metadata": {},
   "outputs": [
    {
     "data": {
      "text/plain": [
       "[Document(metadata={'source': 'Nationals', 'row': 0}, page_content='Team: Nationals\\n\"Payroll (millions)\": 81.34\\n\"Wins\": 98'),\n",
       " Document(metadata={'source': 'Reds', 'row': 1}, page_content='Team: Reds\\n\"Payroll (millions)\": 82.20\\n\"Wins\": 97'),\n",
       " Document(metadata={'source': 'Yankees', 'row': 2}, page_content='Team: Yankees\\n\"Payroll (millions)\": 197.96\\n\"Wins\": 95'),\n",
       " Document(metadata={'source': 'Giants', 'row': 3}, page_content='Team: Giants\\n\"Payroll (millions)\": 117.62\\n\"Wins\": 94'),\n",
       " Document(metadata={'source': 'Braves', 'row': 4}, page_content='Team: Braves\\n\"Payroll (millions)\": 83.31\\n\"Wins\": 94'),\n",
       " Document(metadata={'source': 'Athletics', 'row': 5}, page_content='Team: Athletics\\n\"Payroll (millions)\": 55.37\\n\"Wins\": 94'),\n",
       " Document(metadata={'source': 'Rangers', 'row': 6}, page_content='Team: Rangers\\n\"Payroll (millions)\": 120.51\\n\"Wins\": 93'),\n",
       " Document(metadata={'source': 'Orioles', 'row': 7}, page_content='Team: Orioles\\n\"Payroll (millions)\": 81.43\\n\"Wins\": 93'),\n",
       " Document(metadata={'source': 'Rays', 'row': 8}, page_content='Team: Rays\\n\"Payroll (millions)\": 64.17\\n\"Wins\": 90'),\n",
       " Document(metadata={'source': 'Angels', 'row': 9}, page_content='Team: Angels\\n\"Payroll (millions)\": 154.49\\n\"Wins\": 89'),\n",
       " Document(metadata={'source': 'Tigers', 'row': 10}, page_content='Team: Tigers\\n\"Payroll (millions)\": 132.30\\n\"Wins\": 88'),\n",
       " Document(metadata={'source': 'Cardinals', 'row': 11}, page_content='Team: Cardinals\\n\"Payroll (millions)\": 110.30\\n\"Wins\": 88'),\n",
       " Document(metadata={'source': 'Dodgers', 'row': 12}, page_content='Team: Dodgers\\n\"Payroll (millions)\": 95.14\\n\"Wins\": 86'),\n",
       " Document(metadata={'source': 'White Sox', 'row': 13}, page_content='Team: White Sox\\n\"Payroll (millions)\": 96.92\\n\"Wins\": 85'),\n",
       " Document(metadata={'source': 'Brewers', 'row': 14}, page_content='Team: Brewers\\n\"Payroll (millions)\": 97.65\\n\"Wins\": 83'),\n",
       " Document(metadata={'source': 'Phillies', 'row': 15}, page_content='Team: Phillies\\n\"Payroll (millions)\": 174.54\\n\"Wins\": 81'),\n",
       " Document(metadata={'source': 'Diamondbacks', 'row': 16}, page_content='Team: Diamondbacks\\n\"Payroll (millions)\": 74.28\\n\"Wins\": 81'),\n",
       " Document(metadata={'source': 'Pirates', 'row': 17}, page_content='Team: Pirates\\n\"Payroll (millions)\": 63.43\\n\"Wins\": 79'),\n",
       " Document(metadata={'source': 'Padres', 'row': 18}, page_content='Team: Padres\\n\"Payroll (millions)\": 55.24\\n\"Wins\": 76'),\n",
       " Document(metadata={'source': 'Mariners', 'row': 19}, page_content='Team: Mariners\\n\"Payroll (millions)\": 81.97\\n\"Wins\": 75'),\n",
       " Document(metadata={'source': 'Mets', 'row': 20}, page_content='Team: Mets\\n\"Payroll (millions)\": 93.35\\n\"Wins\": 74'),\n",
       " Document(metadata={'source': 'Blue Jays', 'row': 21}, page_content='Team: Blue Jays\\n\"Payroll (millions)\": 75.48\\n\"Wins\": 73'),\n",
       " Document(metadata={'source': 'Royals', 'row': 22}, page_content='Team: Royals\\n\"Payroll (millions)\": 60.91\\n\"Wins\": 72'),\n",
       " Document(metadata={'source': 'Marlins', 'row': 23}, page_content='Team: Marlins\\n\"Payroll (millions)\": 118.07\\n\"Wins\": 69'),\n",
       " Document(metadata={'source': 'Red Sox', 'row': 24}, page_content='Team: Red Sox\\n\"Payroll (millions)\": 173.18\\n\"Wins\": 69'),\n",
       " Document(metadata={'source': 'Indians', 'row': 25}, page_content='Team: Indians\\n\"Payroll (millions)\": 78.43\\n\"Wins\": 68'),\n",
       " Document(metadata={'source': 'Twins', 'row': 26}, page_content='Team: Twins\\n\"Payroll (millions)\": 94.08\\n\"Wins\": 66'),\n",
       " Document(metadata={'source': 'Rockies', 'row': 27}, page_content='Team: Rockies\\n\"Payroll (millions)\": 78.06\\n\"Wins\": 64'),\n",
       " Document(metadata={'source': 'Cubs', 'row': 28}, page_content='Team: Cubs\\n\"Payroll (millions)\": 88.19\\n\"Wins\": 61'),\n",
       " Document(metadata={'source': 'Astros', 'row': 29}, page_content='Team: Astros\\n\"Payroll (millions)\": 60.65\\n\"Wins\": 55')]"
      ]
     },
     "execution_count": 34,
     "metadata": {},
     "output_type": "execute_result"
    }
   ],
   "source": [
    "data"
   ]
  },
  {
   "cell_type": "code",
   "execution_count": 39,
   "id": "b1412ee9-74c5-4762-8657-de917f207897",
   "metadata": {},
   "outputs": [
    {
     "name": "stdout",
     "output_type": "stream",
     "text": [
      "Team:Nationals\n",
      "Team:Reds\n",
      "Team:Yankees\n",
      "Team:Giants\n",
      "Team:Braves\n",
      "Team:Athletics\n",
      "Team:Rangers\n",
      "Team:Orioles\n",
      "Team:Rays\n",
      "Team:Angels\n",
      "Team:Tigers\n",
      "Team:Cardinals\n",
      "Team:Dodgers\n",
      "Team:White Sox\n",
      "Team:Brewers\n",
      "Team:Phillies\n",
      "Team:Diamondbacks\n",
      "Team:Pirates\n",
      "Team:Padres\n",
      "Team:Mariners\n",
      "Team:Mets\n",
      "Team:Blue Jays\n",
      "Team:Royals\n",
      "Team:Marlins\n",
      "Team:Red Sox\n",
      "Team:Indians\n",
      "Team:Twins\n",
      "Team:Rockies\n",
      "Team:Cubs\n",
      "Team:Astros\n"
     ]
    }
   ],
   "source": [
    "for l in loader.lazy_load():\n",
    "    print(f\"Team:{l.metadata['source']}\")"
   ]
  }
 ],
 "metadata": {
  "kernelspec": {
   "display_name": "Python 3 (ipykernel)",
   "language": "python",
   "name": "python3"
  },
  "language_info": {
   "codemirror_mode": {
    "name": "ipython",
    "version": 3
   },
   "file_extension": ".py",
   "mimetype": "text/x-python",
   "name": "python",
   "nbconvert_exporter": "python",
   "pygments_lexer": "ipython3",
   "version": "3.11.9"
  }
 },
 "nbformat": 4,
 "nbformat_minor": 5
}
