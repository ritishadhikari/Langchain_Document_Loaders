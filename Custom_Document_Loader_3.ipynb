{
 "cells": [
  {
   "cell_type": "code",
   "execution_count": 3,
   "id": "0c2f9c34-7464-4936-b559-7de2c96e9c60",
   "metadata": {},
   "outputs": [
    {
     "name": "stdout",
     "output_type": "stream",
     "text": [
      "Collecting aiofiles\n",
      "  Downloading aiofiles-24.1.0-py3-none-any.whl.metadata (10 kB)\n",
      "Downloading aiofiles-24.1.0-py3-none-any.whl (15 kB)\n",
      "Installing collected packages: aiofiles\n",
      "Successfully installed aiofiles-24.1.0\n"
     ]
    }
   ],
   "source": [
    "!pip install aiofiles"
   ]
  },
  {
   "cell_type": "code",
   "execution_count": 14,
   "id": "e5fd282c-0878-4c85-80e6-fe40e5f8fa53",
   "metadata": {},
   "outputs": [],
   "source": [
    "from dotenv import load_dotenv,find_dotenv\n",
    "from langchain_google_genai import ChatGoogleGenerativeAI\n",
    "from langchain_openai import ChatOpenAI\n",
    "from pathlib import Path\n",
    "\n",
    "from typing import AsyncIterator,Iterator\n",
    "from langchain_core.document_loaders import BaseLoader, BaseBlobParser, Blob\n",
    "from langchain_core.documents import Document\n",
    "import aiofiles"
   ]
  },
  {
   "cell_type": "code",
   "execution_count": 17,
   "id": "af981a34-3aff-497c-86d7-9edf35ea0164",
   "metadata": {},
   "outputs": [],
   "source": [
    "filePath=Path(\"data\").joinpath(\"meow.txt\")"
   ]
  },
  {
   "cell_type": "code",
   "execution_count": 6,
   "id": "6a64818b-711d-4387-a64b-533e489938bb",
   "metadata": {},
   "outputs": [],
   "source": [
    "class CustomDocumentLoader(BaseLoader):\n",
    "    \"\"\"\n",
    "        An example document loader that reads a file line by line\n",
    "    \"\"\"\n",
    "    def __init__(self,filePath:str) ->None:\n",
    "        \"\"\"\n",
    "            Initializes the loader with a file path\n",
    "        Args:\n",
    "            filePath: The path to the file to load\n",
    "        \"\"\"\n",
    "        self.filePath=filePath\n",
    "\n",
    "    def lazy_load(self) -> Iterator[Document]:\n",
    "        \"\"\"\n",
    "            A Lazy Loader that reads a file line by line\n",
    "            When you are implementing lazy load methods, you should use a generator to yield documents one by one\n",
    "        Args:\n",
    "            None\n",
    "        \"\"\"\n",
    "        with open(self.filePath,encoding=\"utf-8\") as f:\n",
    "            lineNumber=0\n",
    "            for line in f:\n",
    "                yield Document(page_content=line, metadata={\"line_number\":lineNumber,\"source\":self.filePath})\n",
    "                lineNumber+=1\n",
    "\n",
    "    async def alazy_load(self) -> AsyncIterator[Document]:\n",
    "        \"\"\"\n",
    "            An Async Loader that reads a file line by line \n",
    "        \"\"\"\n",
    "        async with aiofiles.open(file=self.filePath,encoding=\"utf-8\") as f:\n",
    "            lineNumber=0\n",
    "            async for line in f:\n",
    "                yield Document(page_content=line, metadata={\"line_number\":lineNumber,\"source\":self.filePath})\n",
    "                lineNumber+=1"
   ]
  },
  {
   "cell_type": "code",
   "execution_count": 8,
   "id": "97cc9e86-139f-4ab6-a454-691ad7f4970f",
   "metadata": {},
   "outputs": [],
   "source": [
    "with open(file=\"./data/meow.txt\",mode=\"w\",encoding=\"utf-8\") as f:\n",
    "    qualityContent=\"meow meow🐱 \\n meow meow🐱 \\n meow😻😻\"\n",
    "    f.write(qualityContent)"
   ]
  },
  {
   "cell_type": "code",
   "execution_count": 18,
   "id": "8ff226e5-1c5b-43a8-8960-73b290ea4971",
   "metadata": {},
   "outputs": [],
   "source": [
    "loader=CustomDocumentLoader(filePath=filePath)"
   ]
  },
  {
   "cell_type": "code",
   "execution_count": 19,
   "id": "56c242aa-c03c-4ed5-8889-73e6d9aa3649",
   "metadata": {},
   "outputs": [
    {
     "name": "stdout",
     "output_type": "stream",
     "text": [
      "page_content='meow meow🐱 \n",
      "' metadata={'line_number': 0, 'source': WindowsPath('data/meow.txt')}\n",
      "<class 'langchain_core.documents.base.Document'> \n",
      "\n",
      "page_content=' meow meow🐱 \n",
      "' metadata={'line_number': 1, 'source': WindowsPath('data/meow.txt')}\n",
      "<class 'langchain_core.documents.base.Document'> \n",
      "\n",
      "page_content=' meow😻😻' metadata={'line_number': 2, 'source': WindowsPath('data/meow.txt')}\n",
      "<class 'langchain_core.documents.base.Document'> \n",
      "\n"
     ]
    }
   ],
   "source": [
    "for doc in loader.lazy_load():\n",
    "    print(doc)\n",
    "    print(type(doc),\"\\n\")"
   ]
  },
  {
   "cell_type": "code",
   "execution_count": 20,
   "id": "55f8d278-9c5b-4a31-8b78-73f0c857e731",
   "metadata": {},
   "outputs": [
    {
     "name": "stdout",
     "output_type": "stream",
     "text": [
      "page_content='meow meow🐱 \n",
      "' metadata={'line_number': 0, 'source': WindowsPath('data/meow.txt')}\n",
      "<class 'langchain_core.documents.base.Document'> \n",
      "\n",
      "page_content=' meow meow🐱 \n",
      "' metadata={'line_number': 1, 'source': WindowsPath('data/meow.txt')}\n",
      "<class 'langchain_core.documents.base.Document'> \n",
      "\n",
      "page_content=' meow😻😻' metadata={'line_number': 2, 'source': WindowsPath('data/meow.txt')}\n",
      "<class 'langchain_core.documents.base.Document'> \n",
      "\n"
     ]
    }
   ],
   "source": [
    "async for doc in loader.alazy_load():\n",
    "    print(doc)\n",
    "    print(type(doc),\"\\n\")"
   ]
  },
  {
   "cell_type": "code",
   "execution_count": 21,
   "id": "7a7e9df7-5896-4010-8a46-eb858a35b7c4",
   "metadata": {},
   "outputs": [
    {
     "data": {
      "text/plain": [
       "[Document(metadata={'line_number': 0, 'source': WindowsPath('data/meow.txt')}, page_content='meow meow🐱 \\n'),\n",
       " Document(metadata={'line_number': 1, 'source': WindowsPath('data/meow.txt')}, page_content=' meow meow🐱 \\n'),\n",
       " Document(metadata={'line_number': 2, 'source': WindowsPath('data/meow.txt')}, page_content=' meow😻😻')]"
      ]
     },
     "execution_count": 21,
     "metadata": {},
     "output_type": "execute_result"
    }
   ],
   "source": [
    "# Eager Execution which fits all the contents into the memory all at once\n",
    "loader.load()"
   ]
  },
  {
   "cell_type": "markdown",
   "id": "0e141837-b652-4863-b80c-956612a245a4",
   "metadata": {},
   "source": [
    "<h3>Parsing throgh Base Blob Parser</h3>"
   ]
  },
  {
   "cell_type": "code",
   "execution_count": 50,
   "id": "30fab225-1376-437f-a102-131afda6f5e3",
   "metadata": {},
   "outputs": [],
   "source": [
    "class MyParser(BaseBlobParser):\n",
    "    \"\"\"\n",
    "        A simple parser that creates a document from each line\n",
    "    \"\"\"\n",
    "    def lazy_parse(self, blob:Blob) -> Iterator[Document]:\n",
    "        \"\"\"\n",
    "            Parse a blob into a document line by line\n",
    "        \"\"\"\n",
    "        lineNumber=0\n",
    "        with blob.as_bytes_io() as f:\n",
    "            for line in f:\n",
    "                lineNumber+=1\n",
    "                # Parsing is possible because of the Parent BaseBlobParser\n",
    "                yield Document(page_content=line, \n",
    "                               metadata={\"line_number\":lineNumber,\"source\":blob.source}\n",
    "                              )"
   ]
  },
  {
   "cell_type": "code",
   "execution_count": 42,
   "id": "8e62850d-74f8-401a-8aeb-c7f0cd193518",
   "metadata": {},
   "outputs": [],
   "source": [
    "blob=Blob.from_path(path=filePath)"
   ]
  },
  {
   "cell_type": "code",
   "execution_count": 43,
   "id": "2f7c3c98-43e2-4fe8-aa5b-5265b1847741",
   "metadata": {},
   "outputs": [
    {
     "name": "stdout",
     "output_type": "stream",
     "text": [
      "meow meow🐱 \n",
      " meow meow🐱 \n",
      " meow😻😻\n"
     ]
    }
   ],
   "source": [
    "print(blob.as_string())"
   ]
  },
  {
   "cell_type": "code",
   "execution_count": 44,
   "id": "b2ad071d-7141-4821-8b97-87c276db8ffa",
   "metadata": {},
   "outputs": [
    {
     "name": "stdout",
     "output_type": "stream",
     "text": [
      "b'meow meow\\xf0\\x9f\\x90\\xb1 \\r\\n'\n",
      "b' meow meow\\xf0\\x9f\\x90\\xb1 \\r\\n'\n",
      "b' meow\\xf0\\x9f\\x98\\xbb\\xf0\\x9f\\x98\\xbb'\n"
     ]
    }
   ],
   "source": [
    "with blob.as_bytes_io() as f:\n",
    "    for line in f:\n",
    "        print(line)"
   ]
  },
  {
   "cell_type": "code",
   "execution_count": 45,
   "id": "0acc8b62-7b8f-4d6e-9c65-15c3fe51d010",
   "metadata": {},
   "outputs": [
    {
     "data": {
      "text/plain": [
       "'data\\\\meow.txt'"
      ]
     },
     "execution_count": 45,
     "metadata": {},
     "output_type": "execute_result"
    }
   ],
   "source": [
    "blob.source"
   ]
  },
  {
   "cell_type": "code",
   "execution_count": 46,
   "id": "99f54b29-d86b-4e8c-84f3-71fb2e0ddd07",
   "metadata": {},
   "outputs": [],
   "source": [
    "parser=MyParser()"
   ]
  },
  {
   "cell_type": "code",
   "execution_count": 49,
   "id": "9234b1af-e263-47e0-ae54-5d2d1568f55f",
   "metadata": {},
   "outputs": [
    {
     "name": "stdout",
     "output_type": "stream",
     "text": [
      "page_content='meow meow🐱 \n",
      "' metadata={'line_number': 1, 'source': 'data\\\\meow.txt'} \n",
      "\n",
      "page_content=' meow meow🐱 \n",
      "' metadata={'line_number': 2, 'source': 'data\\\\meow.txt'} \n",
      "\n",
      "page_content=' meow😻😻' metadata={'line_number': 3, 'source': 'data\\\\meow.txt'} \n",
      "\n"
     ]
    }
   ],
   "source": [
    "for parsed_item in parser.lazy_parse(blob=blob):\n",
    "        print(parsed_item,\"\\n\")\n"
   ]
  },
  {
   "cell_type": "code",
   "execution_count": 53,
   "id": "eace7d77-0fd2-4893-9298-7324d71a393d",
   "metadata": {},
   "outputs": [
    {
     "name": "stdout",
     "output_type": "stream",
     "text": [
      "page_content='some data from memory\n",
      "' metadata={'line_number': 1, 'source': None} \n",
      "\n",
      "page_content='meow' metadata={'line_number': 2, 'source': None} \n",
      "\n"
     ]
    }
   ],
   "source": [
    "blob=Blob(data=b\"some data from memory\\nmeow\")\n",
    "for parsed_item in parser.lazy_parse(blob=blob):\n",
    "        print(parsed_item,\"\\n\")"
   ]
  },
  {
   "cell_type": "code",
   "execution_count": null,
   "id": "69cb9f2a-c6c9-4a1a-be61-b361eae683a1",
   "metadata": {},
   "outputs": [],
   "source": [
    "    "
   ]
  }
 ],
 "metadata": {
  "kernelspec": {
   "display_name": "Python 3 (ipykernel)",
   "language": "python",
   "name": "python3"
  },
  "language_info": {
   "codemirror_mode": {
    "name": "ipython",
    "version": 3
   },
   "file_extension": ".py",
   "mimetype": "text/x-python",
   "name": "python",
   "nbconvert_exporter": "python",
   "pygments_lexer": "ipython3",
   "version": "3.11.9"
  }
 },
 "nbformat": 4,
 "nbformat_minor": 5
}
