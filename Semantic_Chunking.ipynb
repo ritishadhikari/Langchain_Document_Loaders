{
 "cells": [
  {
   "cell_type": "code",
   "execution_count": null,
   "id": "a39f8066-b8fb-46fe-ac0f-14257116916a",
   "metadata": {},
   "outputs": [],
   "source": []
  }
 ],
 "metadata": {
  "kernelspec": {
   "display_name": "",
   "name": ""
  },
  "language_info": {
   "name": ""
  }
 },
 "nbformat": 4,
 "nbformat_minor": 5
}
