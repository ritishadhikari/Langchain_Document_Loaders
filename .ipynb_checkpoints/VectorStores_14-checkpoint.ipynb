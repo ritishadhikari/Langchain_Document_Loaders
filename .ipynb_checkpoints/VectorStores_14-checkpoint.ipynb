{
 "cells": [
  {
   "cell_type": "code",
   "execution_count": 8,
   "id": "6ec5fce3-aaea-4012-b293-a32837368930",
   "metadata": {
    "scrolled": true
   },
   "outputs": [
    {
     "name": "stdout",
     "output_type": "stream",
     "text": [
      "Collecting qdrant-client\n",
      "  Downloading qdrant_client-1.12.2-py3-none-any.whl.metadata (10 kB)\n",
      "Requirement already satisfied: grpcio>=1.41.0 in c:\\users\\msi 1\\.conda\\envs\\oaivenv\\lib\\site-packages (from qdrant-client) (1.64.1)\n",
      "Collecting grpcio-tools>=1.41.0 (from qdrant-client)\n",
      "  Downloading grpcio_tools-1.69.0-cp311-cp311-win_amd64.whl.metadata (5.5 kB)\n",
      "Requirement already satisfied: httpx>=0.20.0 in c:\\users\\msi 1\\.conda\\envs\\oaivenv\\lib\\site-packages (from httpx[http2]>=0.20.0->qdrant-client) (0.27.0)\n",
      "Requirement already satisfied: numpy>=1.21 in c:\\users\\msi 1\\.conda\\envs\\oaivenv\\lib\\site-packages (from qdrant-client) (1.26.4)\n",
      "Collecting portalocker<3.0.0,>=2.7.0 (from qdrant-client)\n",
      "  Downloading portalocker-2.10.1-py3-none-any.whl.metadata (8.5 kB)\n",
      "Requirement already satisfied: pydantic>=1.10.8 in c:\\users\\msi 1\\.conda\\envs\\oaivenv\\lib\\site-packages (from qdrant-client) (2.9.2)\n",
      "Requirement already satisfied: urllib3<3,>=1.26.14 in c:\\users\\msi 1\\.conda\\envs\\oaivenv\\lib\\site-packages (from qdrant-client) (2.2.1)\n",
      "Collecting protobuf<6.0dev,>=5.26.1 (from grpcio-tools>=1.41.0->qdrant-client)\n",
      "  Downloading protobuf-5.29.3-cp310-abi3-win_amd64.whl.metadata (592 bytes)\n",
      "Collecting grpcio>=1.41.0 (from qdrant-client)\n",
      "  Downloading grpcio-1.69.0-cp311-cp311-win_amd64.whl.metadata (4.0 kB)\n",
      "Requirement already satisfied: setuptools in c:\\users\\msi 1\\.conda\\envs\\oaivenv\\lib\\site-packages (from grpcio-tools>=1.41.0->qdrant-client) (69.5.1)\n",
      "Requirement already satisfied: anyio in c:\\users\\msi 1\\.conda\\envs\\oaivenv\\lib\\site-packages (from httpx>=0.20.0->httpx[http2]>=0.20.0->qdrant-client) (4.4.0)\n",
      "Requirement already satisfied: certifi in c:\\users\\msi 1\\.conda\\envs\\oaivenv\\lib\\site-packages (from httpx>=0.20.0->httpx[http2]>=0.20.0->qdrant-client) (2024.6.2)\n",
      "Requirement already satisfied: httpcore==1.* in c:\\users\\msi 1\\.conda\\envs\\oaivenv\\lib\\site-packages (from httpx>=0.20.0->httpx[http2]>=0.20.0->qdrant-client) (1.0.6)\n",
      "Requirement already satisfied: idna in c:\\users\\msi 1\\.conda\\envs\\oaivenv\\lib\\site-packages (from httpx>=0.20.0->httpx[http2]>=0.20.0->qdrant-client) (3.7)\n",
      "Requirement already satisfied: sniffio in c:\\users\\msi 1\\.conda\\envs\\oaivenv\\lib\\site-packages (from httpx>=0.20.0->httpx[http2]>=0.20.0->qdrant-client) (1.3.1)\n",
      "Requirement already satisfied: h11<0.15,>=0.13 in c:\\users\\msi 1\\.conda\\envs\\oaivenv\\lib\\site-packages (from httpcore==1.*->httpx>=0.20.0->httpx[http2]>=0.20.0->qdrant-client) (0.14.0)\n",
      "Collecting h2<5,>=3 (from httpx[http2]>=0.20.0->qdrant-client)\n",
      "  Downloading h2-4.1.0-py3-none-any.whl.metadata (3.6 kB)\n",
      "Requirement already satisfied: pywin32>=226 in c:\\users\\msi 1\\.conda\\envs\\oaivenv\\lib\\site-packages (from portalocker<3.0.0,>=2.7.0->qdrant-client) (306)\n",
      "Requirement already satisfied: annotated-types>=0.6.0 in c:\\users\\msi 1\\.conda\\envs\\oaivenv\\lib\\site-packages (from pydantic>=1.10.8->qdrant-client) (0.7.0)\n",
      "Requirement already satisfied: pydantic-core==2.23.4 in c:\\users\\msi 1\\.conda\\envs\\oaivenv\\lib\\site-packages (from pydantic>=1.10.8->qdrant-client) (2.23.4)\n",
      "Requirement already satisfied: typing-extensions>=4.6.1 in c:\\users\\msi 1\\.conda\\envs\\oaivenv\\lib\\site-packages (from pydantic>=1.10.8->qdrant-client) (4.12.1)\n",
      "Collecting hyperframe<7,>=6.0 (from h2<5,>=3->httpx[http2]>=0.20.0->qdrant-client)\n",
      "  Downloading hyperframe-6.0.1-py3-none-any.whl.metadata (2.7 kB)\n",
      "Collecting hpack<5,>=4.0 (from h2<5,>=3->httpx[http2]>=0.20.0->qdrant-client)\n",
      "  Downloading hpack-4.0.0-py3-none-any.whl.metadata (2.5 kB)\n",
      "Downloading qdrant_client-1.12.2-py3-none-any.whl (267 kB)\n",
      "   ---------------------------------------- 0.0/267.2 kB ? eta -:--:--\n",
      "   --------------------- ------------------ 143.4/267.2 kB 4.3 MB/s eta 0:00:01\n",
      "   ---------------------------------------- 267.2/267.2 kB 4.1 MB/s eta 0:00:00\n",
      "Downloading grpcio_tools-1.69.0-cp311-cp311-win_amd64.whl (1.1 MB)\n",
      "   ---------------------------------------- 0.0/1.1 MB ? eta -:--:--\n",
      "   --------- ------------------------------ 0.3/1.1 MB 7.9 MB/s eta 0:00:01\n",
      "   -------------------- ------------------- 0.6/1.1 MB 7.1 MB/s eta 0:00:01\n",
      "   ------------------------------ --------- 0.8/1.1 MB 5.9 MB/s eta 0:00:01\n",
      "   ---------------------------------------  1.1/1.1 MB 5.9 MB/s eta 0:00:01\n",
      "   ---------------------------------------- 1.1/1.1 MB 5.9 MB/s eta 0:00:00\n",
      "Downloading grpcio-1.69.0-cp311-cp311-win_amd64.whl (4.4 MB)\n",
      "   ---------------------------------------- 0.0/4.4 MB ? eta -:--:--\n",
      "   - -------------------------------------- 0.2/4.4 MB 5.9 MB/s eta 0:00:01\n",
      "   ---- ----------------------------------- 0.5/4.4 MB 5.6 MB/s eta 0:00:01\n",
      "   ----- ---------------------------------- 0.6/4.4 MB 4.8 MB/s eta 0:00:01\n",
      "   ------- -------------------------------- 0.9/4.4 MB 5.0 MB/s eta 0:00:01\n",
      "   --------- ------------------------------ 1.0/4.4 MB 4.2 MB/s eta 0:00:01\n",
      "   ----------- ---------------------------- 1.3/4.4 MB 4.7 MB/s eta 0:00:01\n",
      "   ------------ --------------------------- 1.4/4.4 MB 4.5 MB/s eta 0:00:01\n",
      "   --------------- ------------------------ 1.7/4.4 MB 4.7 MB/s eta 0:00:01\n",
      "   ----------------- ---------------------- 1.9/4.4 MB 4.5 MB/s eta 0:00:01\n",
      "   ------------------- -------------------- 2.1/4.4 MB 4.7 MB/s eta 0:00:01\n",
      "   --------------------- ------------------ 2.3/4.4 MB 4.6 MB/s eta 0:00:01\n",
      "   ----------------------- ---------------- 2.6/4.4 MB 4.7 MB/s eta 0:00:01\n",
      "   ------------------------ --------------- 2.7/4.4 MB 4.6 MB/s eta 0:00:01\n",
      "   ------------------------- -------------- 2.8/4.4 MB 4.5 MB/s eta 0:00:01\n",
      "   ---------------------------- ----------- 3.1/4.4 MB 4.6 MB/s eta 0:00:01\n",
      "   ---------------------------- ----------- 3.2/4.4 MB 4.5 MB/s eta 0:00:01\n",
      "   ------------------------------- -------- 3.5/4.4 MB 4.5 MB/s eta 0:00:01\n",
      "   -------------------------------- ------- 3.6/4.4 MB 4.6 MB/s eta 0:00:01\n",
      "   ----------------------------------- ---- 3.9/4.4 MB 4.6 MB/s eta 0:00:01\n",
      "   ------------------------------------- -- 4.1/4.4 MB 4.6 MB/s eta 0:00:01\n",
      "   -------------------------------------- - 4.3/4.4 MB 4.5 MB/s eta 0:00:01\n",
      "   ---------------------------------------- 4.4/4.4 MB 4.4 MB/s eta 0:00:00\n",
      "Downloading portalocker-2.10.1-py3-none-any.whl (18 kB)\n",
      "Downloading h2-4.1.0-py3-none-any.whl (57 kB)\n",
      "   ---------------------------------------- 0.0/57.5 kB ? eta -:--:--\n",
      "   ---------------------------------------- 57.5/57.5 kB ? eta 0:00:00\n",
      "Downloading protobuf-5.29.3-cp310-abi3-win_amd64.whl (434 kB)\n",
      "   ---------------------------------------- 0.0/434.5 kB ? eta -:--:--\n",
      "   -------------- ------------------------- 153.6/434.5 kB 4.6 MB/s eta 0:00:01\n",
      "   ------------------------------------- -- 409.6/434.5 kB 5.1 MB/s eta 0:00:01\n",
      "   ---------------------------------------- 434.5/434.5 kB 4.5 MB/s eta 0:00:00\n",
      "Downloading hpack-4.0.0-py3-none-any.whl (32 kB)\n",
      "Downloading hyperframe-6.0.1-py3-none-any.whl (12 kB)\n",
      "Installing collected packages: protobuf, portalocker, hyperframe, hpack, grpcio, h2, grpcio-tools, qdrant-client\n",
      "  Attempting uninstall: protobuf\n",
      "    Found existing installation: protobuf 4.25.3\n",
      "    Uninstalling protobuf-4.25.3:\n",
      "      Successfully uninstalled protobuf-4.25.3\n",
      "  Attempting uninstall: portalocker\n",
      "    Found existing installation: portalocker 3.1.1\n",
      "    Uninstalling portalocker-3.1.1:\n",
      "      Successfully uninstalled portalocker-3.1.1\n",
      "  Attempting uninstall: grpcio\n",
      "    Found existing installation: grpcio 1.64.1\n",
      "    Uninstalling grpcio-1.64.1:\n",
      "      Successfully uninstalled grpcio-1.64.1\n",
      "Successfully installed grpcio-1.69.0 grpcio-tools-1.69.0 h2-4.1.0 hpack-4.0.0 hyperframe-6.0.1 portalocker-2.10.1 protobuf-5.29.3 qdrant-client-1.12.2\n"
     ]
    },
    {
     "name": "stderr",
     "output_type": "stream",
     "text": [
      "  WARNING: Failed to remove contents in a temporary directory 'C:\\Users\\MSI 1\\.conda\\envs\\oaivenv\\Lib\\site-packages\\google\\~upb'.\n",
      "  You can safely remove it manually.\n",
      "  WARNING: Failed to remove contents in a temporary directory 'C:\\Users\\MSI 1\\.conda\\envs\\oaivenv\\Lib\\site-packages\\~rpc'.\n",
      "  You can safely remove it manually.\n",
      "ERROR: pip's dependency resolver does not currently take into account all the packages that are installed. This behaviour is the source of the following dependency conflicts.\n",
      "google-api-core 2.19.0 requires protobuf!=3.20.0,!=3.20.1,!=4.21.0,!=4.21.1,!=4.21.2,!=4.21.3,!=4.21.4,!=4.21.5,<5.0.0.dev0,>=3.19.5, but you have protobuf 5.29.3 which is incompatible.\n",
      "opentelemetry-proto 1.25.0 requires protobuf<5.0,>=3.19, but you have protobuf 5.29.3 which is incompatible.\n",
      "proto-plus 1.23.0 requires protobuf<5.0.0dev,>=3.19.0, but you have protobuf 5.29.3 which is incompatible.\n",
      "streamlit 1.35.0 requires protobuf<5,>=3.20, but you have protobuf 5.29.3 which is incompatible.\n"
     ]
    }
   ],
   "source": [
    "!pip install qdrant-client"
   ]
  },
  {
   "cell_type": "code",
   "execution_count": 16,
   "id": "cdf69eb2-c8e2-4f55-89ff-031f940016a3",
   "metadata": {},
   "outputs": [],
   "source": [
    "from dotenv import load_dotenv,find_dotenv\n",
    "from langchain_google_genai import ChatGoogleGenerativeAI\n",
    "from langchain_openai import ChatOpenAI\n",
    "from pathlib import Path\n",
    "from dotenv import load_dotenv,find_dotenv\n",
    "\n",
    "from langchain.embeddings import SentenceTransformerEmbeddings\n",
    "from langchain_text_splitters import CharacterTextSplitter, RecursiveCharacterTextSplitter\n",
    "from langchain.document_loaders import TextLoader\n",
    "from langchain.vectorstores import FAISS,Qdrant"
   ]
  },
  {
   "cell_type": "code",
   "execution_count": 2,
   "id": "2b61b20f-dae2-4f6e-aa37-56eae4201255",
   "metadata": {},
   "outputs": [
    {
     "data": {
      "text/plain": [
       "True"
      ]
     },
     "execution_count": 2,
     "metadata": {},
     "output_type": "execute_result"
    }
   ],
   "source": [
    "load_dotenv(find_dotenv(\"D:\\LLM Courses\\Master Langchain Udemy\\.env\"))"
   ]
  },
  {
   "cell_type": "code",
   "execution_count": 5,
   "id": "a0d1a1f7-e348-4335-8eac-6f6a0c6fe90a",
   "metadata": {},
   "outputs": [],
   "source": [
    "filePath=Path(\"data\").joinpath(\"letters\").joinpath(\"state_of_the_union.txt\")"
   ]
  },
  {
   "cell_type": "code",
   "execution_count": 6,
   "id": "b0855569-6389-47fe-8b32-28295e251dd9",
   "metadata": {},
   "outputs": [],
   "source": [
    "rawDocument=TextLoader(file_path=filePath,encoding=\"utf-8\").load()\n",
    "splittedDocuments=RecursiveCharacterTextSplitter(chunk_size=1000,chunk_overlap=10).split_documents(documents=rawDocument)"
   ]
  },
  {
   "cell_type": "code",
   "execution_count": 10,
   "id": "527e375f-cc1d-4d4d-a3ca-a18e7bb4c03e",
   "metadata": {},
   "outputs": [
    {
     "name": "stderr",
     "output_type": "stream",
     "text": [
      "C:\\Users\\MSI 1\\AppData\\Local\\Temp\\ipykernel_37900\\1367304018.py:1: LangChainDeprecationWarning: The class `HuggingFaceEmbeddings` was deprecated in LangChain 0.2.2 and will be removed in 1.0. An updated version of the class exists in the :class:`~langchain-huggingface package and should be used instead. To use it run `pip install -U :class:`~langchain-huggingface` and import as `from :class:`~langchain_huggingface import HuggingFaceEmbeddings``.\n",
      "  db=FAISS.from_documents(documents=splittedDocuments,embedding=SentenceTransformerEmbeddings())\n",
      "C:\\Users\\MSI 1\\AppData\\Local\\Temp\\ipykernel_37900\\1367304018.py:1: LangChainDeprecationWarning: Default values for HuggingFaceEmbeddings.model_name were deprecated in LangChain 0.2.16 and will be removed in 0.4.0. Explicitly pass a model_name to the HuggingFaceEmbeddings constructor instead.\n",
      "  db=FAISS.from_documents(documents=splittedDocuments,embedding=SentenceTransformerEmbeddings())\n"
     ]
    }
   ],
   "source": [
    "db=FAISS.from_documents(documents=splittedDocuments,embedding=SentenceTransformerEmbeddings())"
   ]
  },
  {
   "cell_type": "markdown",
   "id": "5aa44750-f937-4769-a84b-c045b76edff4",
   "metadata": {},
   "source": [
    "<h3>Similarity Search</h3>"
   ]
  },
  {
   "cell_type": "code",
   "execution_count": 11,
   "id": "35d948ba-2f8d-489b-8c87-700cfb54a3b1",
   "metadata": {},
   "outputs": [],
   "source": [
    "query=\"What did the president say about Ketanji Brown Jackson?\""
   ]
  },
  {
   "cell_type": "code",
   "execution_count": 12,
   "id": "f9cbd975-378d-49fd-90d7-04430e6f1438",
   "metadata": {},
   "outputs": [
    {
     "data": {
      "text/plain": [
       "[Document(metadata={'source': 'data\\\\letters\\\\state_of_the_union.txt'}, page_content='Tonight. I call on the Senate to: Pass the Freedom to Vote Act. Pass the John Lewis Voting Rights Act. And while you’re at it, pass the Disclose Act so Americans can know who is funding our elections. \\n\\nTonight, I’d like to honor someone who has dedicated his life to serve this country: Justice Stephen Breyer—an Army veteran, Constitutional scholar, and retiring Justice of the United States Supreme Court. Justice Breyer, thank you for your service. \\n\\nOne of the most serious constitutional responsibilities a President has is nominating someone to serve on the United States Supreme Court. \\n\\nAnd I did that 4 days ago, when I nominated Circuit Court of Appeals Judge Ketanji Brown Jackson. One of our nation’s top legal minds, who will continue Justice Breyer’s legacy of excellence.'),\n",
       " Document(metadata={'source': 'data\\\\letters\\\\state_of_the_union.txt'}, page_content='A former top litigator in private practice. A former federal public defender. And from a family of public school educators and police officers. A consensus builder. Since she’s been nominated, she’s received a broad range of support—from the Fraternal Order of Police to former judges appointed by Democrats and Republicans. \\n\\nAnd if we are to advance liberty and justice, we need to secure the Border and fix the immigration system. \\n\\nWe can do both. At our border, we’ve installed new technology like cutting-edge scanners to better detect drug smuggling.  \\n\\nWe’ve set up joint patrols with Mexico and Guatemala to catch more human traffickers.  \\n\\nWe’re putting in place dedicated immigration judges so families fleeing persecution and violence can have their cases heard faster. \\n\\nWe’re securing commitments and supporting partners in South and Central America to host more refugees and secure their own borders.')]"
      ]
     },
     "execution_count": 12,
     "metadata": {},
     "output_type": "execute_result"
    }
   ],
   "source": [
    "docs=db.similarity_search(query=query,k=2)\n",
    "docs"
   ]
  },
  {
   "cell_type": "markdown",
   "id": "dbb69292-db5e-4ad6-b42f-53968e216b23",
   "metadata": {},
   "source": [
    "<h3>Similarity Search by Vector</h3>"
   ]
  },
  {
   "cell_type": "code",
   "execution_count": 13,
   "id": "f743e7c5-fe89-4008-9bdb-bfe5cd2d0e60",
   "metadata": {},
   "outputs": [
    {
     "name": "stderr",
     "output_type": "stream",
     "text": [
      "C:\\Users\\MSI 1\\AppData\\Local\\Temp\\ipykernel_37900\\4285215790.py:1: LangChainDeprecationWarning: Default values for HuggingFaceEmbeddings.model_name were deprecated in LangChain 0.2.16 and will be removed in 0.4.0. Explicitly pass a model_name to the HuggingFaceEmbeddings constructor instead.\n",
      "  embedding_vector=SentenceTransformerEmbeddings().embed_query(text=query)\n"
     ]
    }
   ],
   "source": [
    "embedding_vector=SentenceTransformerEmbeddings().embed_query(text=query)"
   ]
  },
  {
   "cell_type": "code",
   "execution_count": 14,
   "id": "f946de75-9f49-435e-818b-615edfe1a607",
   "metadata": {},
   "outputs": [],
   "source": [
    "docs=db.similarity_search_by_vector(embedding=embedding_vector,k=2)"
   ]
  },
  {
   "cell_type": "code",
   "execution_count": 15,
   "id": "9b55ada6-33d1-4990-82e1-f5f8f5dfda06",
   "metadata": {},
   "outputs": [
    {
     "data": {
      "text/plain": [
       "[Document(metadata={'source': 'data\\\\letters\\\\state_of_the_union.txt'}, page_content='Tonight. I call on the Senate to: Pass the Freedom to Vote Act. Pass the John Lewis Voting Rights Act. And while you’re at it, pass the Disclose Act so Americans can know who is funding our elections. \\n\\nTonight, I’d like to honor someone who has dedicated his life to serve this country: Justice Stephen Breyer—an Army veteran, Constitutional scholar, and retiring Justice of the United States Supreme Court. Justice Breyer, thank you for your service. \\n\\nOne of the most serious constitutional responsibilities a President has is nominating someone to serve on the United States Supreme Court. \\n\\nAnd I did that 4 days ago, when I nominated Circuit Court of Appeals Judge Ketanji Brown Jackson. One of our nation’s top legal minds, who will continue Justice Breyer’s legacy of excellence.'),\n",
       " Document(metadata={'source': 'data\\\\letters\\\\state_of_the_union.txt'}, page_content='A former top litigator in private practice. A former federal public defender. And from a family of public school educators and police officers. A consensus builder. Since she’s been nominated, she’s received a broad range of support—from the Fraternal Order of Police to former judges appointed by Democrats and Republicans. \\n\\nAnd if we are to advance liberty and justice, we need to secure the Border and fix the immigration system. \\n\\nWe can do both. At our border, we’ve installed new technology like cutting-edge scanners to better detect drug smuggling.  \\n\\nWe’ve set up joint patrols with Mexico and Guatemala to catch more human traffickers.  \\n\\nWe’re putting in place dedicated immigration judges so families fleeing persecution and violence can have their cases heard faster. \\n\\nWe’re securing commitments and supporting partners in South and Central America to host more refugees and secure their own borders.')]"
      ]
     },
     "execution_count": 15,
     "metadata": {},
     "output_type": "execute_result"
    }
   ],
   "source": [
    "docs"
   ]
  },
  {
   "cell_type": "markdown",
   "id": "2e7b4eb6-832a-4c04-8794-c8cdfcf36843",
   "metadata": {},
   "source": [
    "<h3>Use QDRANT from Async Vectorstore</h3>"
   ]
  },
  {
   "cell_type": "code",
   "execution_count": 22,
   "id": "7fb78fff-2c2b-45e9-a767-d8fe1ecc7ed2",
   "metadata": {},
   "outputs": [
    {
     "name": "stderr",
     "output_type": "stream",
     "text": [
      "C:\\Users\\MSI 1\\AppData\\Local\\Temp\\ipykernel_37900\\361542182.py:1: LangChainDeprecationWarning: Default values for HuggingFaceEmbeddings.model_name were deprecated in LangChain 0.2.16 and will be removed in 0.4.0. Explicitly pass a model_name to the HuggingFaceEmbeddings constructor instead.\n",
      "  db = await Qdrant.afrom_documents(docs=splittedDocuments, embeddings=SentenceTransformerEmbeddings(), url=\"http://localhost:633\")\n"
     ]
    },
    {
     "ename": "TypeError",
     "evalue": "VectorStore.afrom_documents() missing 2 required positional arguments: 'documents' and 'embedding'",
     "output_type": "error",
     "traceback": [
      "\u001b[1;31m---------------------------------------------------------------------------\u001b[0m",
      "\u001b[1;31mTypeError\u001b[0m                                 Traceback (most recent call last)",
      "Cell \u001b[1;32mIn[22], line 1\u001b[0m\n\u001b[1;32m----> 1\u001b[0m db \u001b[38;5;241m=\u001b[39m \u001b[38;5;28;01mawait\u001b[39;00m \u001b[43mQdrant\u001b[49m\u001b[38;5;241;43m.\u001b[39;49m\u001b[43mafrom_documents\u001b[49m\u001b[43m(\u001b[49m\u001b[43mdocs\u001b[49m\u001b[38;5;241;43m=\u001b[39;49m\u001b[43msplittedDocuments\u001b[49m\u001b[43m,\u001b[49m\u001b[43m \u001b[49m\u001b[43membeddings\u001b[49m\u001b[38;5;241;43m=\u001b[39;49m\u001b[43mSentenceTransformerEmbeddings\u001b[49m\u001b[43m(\u001b[49m\u001b[43m)\u001b[49m\u001b[43m,\u001b[49m\u001b[43m \u001b[49m\u001b[43murl\u001b[49m\u001b[38;5;241;43m=\u001b[39;49m\u001b[38;5;124;43m\"\u001b[39;49m\u001b[38;5;124;43mhttp://localhost:633\u001b[39;49m\u001b[38;5;124;43m\"\u001b[39;49m\u001b[43m)\u001b[49m\n",
      "\u001b[1;31mTypeError\u001b[0m: VectorStore.afrom_documents() missing 2 required positional arguments: 'documents' and 'embedding'"
     ]
    }
   ],
   "source": [
    "db = await Qdrant.afrom_documents(documents=splittedDocuments, embedding=SentenceTransformerEmbeddings(), url\"http://localhost:6333\")"
   ]
  },
  {
   "cell_type": "code",
   "execution_count": null,
   "id": "941cb55c-4338-4605-9dae-c706df7e0487",
   "metadata": {},
   "outputs": [],
   "source": []
  }
 ],
 "metadata": {
  "kernelspec": {
   "display_name": "Python 3 (ipykernel)",
   "language": "python",
   "name": "python3"
  },
  "language_info": {
   "codemirror_mode": {
    "name": "ipython",
    "version": 3
   },
   "file_extension": ".py",
   "mimetype": "text/x-python",
   "name": "python",
   "nbconvert_exporter": "python",
   "pygments_lexer": "ipython3",
   "version": "3.11.9"
  }
 },
 "nbformat": 4,
 "nbformat_minor": 5
}
