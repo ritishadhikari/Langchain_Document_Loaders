{
 "cells": [
  {
   "cell_type": "code",
   "execution_count": 7,
   "id": "2bbdb17e-f72f-4476-8fb8-aac123bf286c",
   "metadata": {},
   "outputs": [],
   "source": [
    "from dotenv import load_dotenv,find_dotenv\n",
    "from langchain_google_genai import ChatGoogleGenerativeAI\n",
    "from langchain_openai import ChatOpenAI\n",
    "from pathlib import Path\n",
    "\n",
    "import os\n",
    "from langchain_community.document_loaders import JSONLoader\n",
    "import json"
   ]
  },
  {
   "cell_type": "code",
   "execution_count": 4,
   "id": "2d0eeebe-6c5f-4b34-b88e-929b31ee8522",
   "metadata": {},
   "outputs": [],
   "source": [
    "try:\n",
    "    os.mkdir(\"data/json/\")\n",
    "except:\n",
    "    print(\"Folder Already exists\")"
   ]
  },
  {
   "cell_type": "code",
   "execution_count": 28,
   "id": "7698c5c0-bbb0-49c3-b43e-5754f10a3d23",
   "metadata": {},
   "outputs": [],
   "source": [
    "facebookChat={'image': {'creation_timestamp': 1675549016, 'uri': 'image_of_the_chat.jpg'},\n",
    "     'is_still_participant': True,\n",
    "     'joinable_mode': {'link': '', 'mode': 1},\n",
    "     'magic_words': [],\n",
    "     'messages': [{'content': 'Bye!',\n",
    "                   'sender_name': 'User 2',\n",
    "                   'timestamp_ms': 1675597571851},\n",
    "                  {'content': 'Oh no worries! Bye',\n",
    "                   'sender_name': 'User 1',\n",
    "                   'timestamp_ms': 1675597435669},\n",
    "                  {'content': 'No Im sorry it was my mistake, the blue one is not '\n",
    "                              'for sale',\n",
    "                   'sender_name': 'User 2',\n",
    "                   'timestamp_ms': 1675596277579},\n",
    "                  {'content': 'I thought you were selling the blue one!',\n",
    "                   'sender_name': 'User 1',\n",
    "                   'timestamp_ms': 1675595140251},\n",
    "                  {'content': 'Im not interested in this bag. Im interested in the '\n",
    "                              'blue one!',\n",
    "                   'sender_name': 'User 1',\n",
    "                   'timestamp_ms': 1675595109305},\n",
    "                  {'content': 'Here is $129',\n",
    "                   'sender_name': 'User 2',\n",
    "                   'timestamp_ms': 1675595068468},\n",
    "                  {'photos': [{'creation_timestamp': 1675595059,\n",
    "                               'uri': 'url_of_some_picture.jpg'}],\n",
    "                   'sender_name': 'User 2',\n",
    "                   'timestamp_ms': 1675595060730},\n",
    "                  {'content': 'Online is at least $100',\n",
    "                   'sender_name': 'User 2',\n",
    "                   'timestamp_ms': 1675595045152},\n",
    "                  {'content': 'How much do you want?',\n",
    "                   'sender_name': 'User 1',\n",
    "                   'timestamp_ms': 1675594799696},\n",
    "                  {'content': 'Goodmorning! $50 is too low.',\n",
    "                   'sender_name': 'User 2',\n",
    "                   'timestamp_ms': 1675577876645},\n",
    "                  {'content': 'Hi! Im interested in your bag. Im offering $50. Let '\n",
    "                              'me know if you are interested. Thanks!',\n",
    "                   'sender_name': 'User 1',\n",
    "                   'timestamp_ms': 1675549022673}],\n",
    "     'participants': [{'name': 'User 1'}, {'name': 'User 2'}],\n",
    "     'thread_path': 'inbox/User 1 and User 2 chat',\n",
    "     'title': 'User 1 and User 2 chat'}"
   ]
  },
  {
   "cell_type": "code",
   "execution_count": 29,
   "id": "52ffd544-51ab-49cc-9ca5-800263f9d99c",
   "metadata": {},
   "outputs": [],
   "source": [
    "with open(file=\"data/json/facebook_chat.json\",mode=\"w+\") as f:\n",
    "    json.dump(obj=facebookChat,fp=f)"
   ]
  },
  {
   "cell_type": "code",
   "execution_count": 30,
   "id": "13c8b633-4f0e-4dcc-98ea-120989ed08d6",
   "metadata": {},
   "outputs": [],
   "source": [
    "with open(file=\"data/json/facebook_chat.json\",mode=\"r+\") as f:\n",
    "    content=json.load(fp=f,)"
   ]
  },
  {
   "cell_type": "code",
   "execution_count": 31,
   "id": "9c966312-1ba8-4268-b1cd-5335de530f29",
   "metadata": {
    "scrolled": true
   },
   "outputs": [
    {
     "data": {
      "text/plain": [
       "{'image': {'creation_timestamp': 1675549016, 'uri': 'image_of_the_chat.jpg'},\n",
       " 'is_still_participant': True,\n",
       " 'joinable_mode': {'link': '', 'mode': 1},\n",
       " 'magic_words': [],\n",
       " 'messages': [{'content': 'Bye!',\n",
       "   'sender_name': 'User 2',\n",
       "   'timestamp_ms': 1675597571851},\n",
       "  {'content': 'Oh no worries! Bye',\n",
       "   'sender_name': 'User 1',\n",
       "   'timestamp_ms': 1675597435669},\n",
       "  {'content': 'No Im sorry it was my mistake, the blue one is not for sale',\n",
       "   'sender_name': 'User 2',\n",
       "   'timestamp_ms': 1675596277579},\n",
       "  {'content': 'I thought you were selling the blue one!',\n",
       "   'sender_name': 'User 1',\n",
       "   'timestamp_ms': 1675595140251},\n",
       "  {'content': 'Im not interested in this bag. Im interested in the blue one!',\n",
       "   'sender_name': 'User 1',\n",
       "   'timestamp_ms': 1675595109305},\n",
       "  {'content': 'Here is $129',\n",
       "   'sender_name': 'User 2',\n",
       "   'timestamp_ms': 1675595068468},\n",
       "  {'photos': [{'creation_timestamp': 1675595059,\n",
       "     'uri': 'url_of_some_picture.jpg'}],\n",
       "   'sender_name': 'User 2',\n",
       "   'timestamp_ms': 1675595060730},\n",
       "  {'content': 'Online is at least $100',\n",
       "   'sender_name': 'User 2',\n",
       "   'timestamp_ms': 1675595045152},\n",
       "  {'content': 'How much do you want?',\n",
       "   'sender_name': 'User 1',\n",
       "   'timestamp_ms': 1675594799696},\n",
       "  {'content': 'Goodmorning! $50 is too low.',\n",
       "   'sender_name': 'User 2',\n",
       "   'timestamp_ms': 1675577876645},\n",
       "  {'content': 'Hi! Im interested in your bag. Im offering $50. Let me know if you are interested. Thanks!',\n",
       "   'sender_name': 'User 1',\n",
       "   'timestamp_ms': 1675549022673}],\n",
       " 'participants': [{'name': 'User 1'}, {'name': 'User 2'}],\n",
       " 'thread_path': 'inbox/User 1 and User 2 chat',\n",
       " 'title': 'User 1 and User 2 chat'}"
      ]
     },
     "execution_count": 31,
     "metadata": {},
     "output_type": "execute_result"
    }
   ],
   "source": [
    "content"
   ]
  },
  {
   "cell_type": "code",
   "execution_count": 40,
   "id": "17698ef8-dd25-4b01-ab1c-bcae346cac09",
   "metadata": {},
   "outputs": [],
   "source": [
    "loader=JSONLoader(file_path=\"data/json/facebook_chat.json\",\n",
    "                  jq_schema='.messages[].content',  # VVI\n",
    "                  text_content=False)"
   ]
  },
  {
   "cell_type": "code",
   "execution_count": 41,
   "id": "8785fbb2-0323-4b40-8eef-82eff6de67ab",
   "metadata": {
    "scrolled": true
   },
   "outputs": [
    {
     "data": {
      "text/plain": [
       "[Document(metadata={'source': 'D:\\\\python_projects\\\\Document_Loaders\\\\data\\\\json\\\\facebook_chat.json', 'seq_num': 1}, page_content='Bye!'),\n",
       " Document(metadata={'source': 'D:\\\\python_projects\\\\Document_Loaders\\\\data\\\\json\\\\facebook_chat.json', 'seq_num': 2}, page_content='Oh no worries! Bye'),\n",
       " Document(metadata={'source': 'D:\\\\python_projects\\\\Document_Loaders\\\\data\\\\json\\\\facebook_chat.json', 'seq_num': 3}, page_content='No Im sorry it was my mistake, the blue one is not for sale'),\n",
       " Document(metadata={'source': 'D:\\\\python_projects\\\\Document_Loaders\\\\data\\\\json\\\\facebook_chat.json', 'seq_num': 4}, page_content='I thought you were selling the blue one!'),\n",
       " Document(metadata={'source': 'D:\\\\python_projects\\\\Document_Loaders\\\\data\\\\json\\\\facebook_chat.json', 'seq_num': 5}, page_content='Im not interested in this bag. Im interested in the blue one!'),\n",
       " Document(metadata={'source': 'D:\\\\python_projects\\\\Document_Loaders\\\\data\\\\json\\\\facebook_chat.json', 'seq_num': 6}, page_content='Here is $129'),\n",
       " Document(metadata={'source': 'D:\\\\python_projects\\\\Document_Loaders\\\\data\\\\json\\\\facebook_chat.json', 'seq_num': 7}, page_content=''),\n",
       " Document(metadata={'source': 'D:\\\\python_projects\\\\Document_Loaders\\\\data\\\\json\\\\facebook_chat.json', 'seq_num': 8}, page_content='Online is at least $100'),\n",
       " Document(metadata={'source': 'D:\\\\python_projects\\\\Document_Loaders\\\\data\\\\json\\\\facebook_chat.json', 'seq_num': 9}, page_content='How much do you want?'),\n",
       " Document(metadata={'source': 'D:\\\\python_projects\\\\Document_Loaders\\\\data\\\\json\\\\facebook_chat.json', 'seq_num': 10}, page_content='Goodmorning! $50 is too low.'),\n",
       " Document(metadata={'source': 'D:\\\\python_projects\\\\Document_Loaders\\\\data\\\\json\\\\facebook_chat.json', 'seq_num': 11}, page_content='Hi! Im interested in your bag. Im offering $50. Let me know if you are interested. Thanks!')]"
      ]
     },
     "execution_count": 41,
     "metadata": {},
     "output_type": "execute_result"
    }
   ],
   "source": [
    "loader.load()"
   ]
  },
  {
   "cell_type": "markdown",
   "id": "82421fbc-cb9d-4c8f-841a-3d4cfa4c3205",
   "metadata": {},
   "source": [
    "<h3>Alternate to the above</h3>"
   ]
  },
  {
   "cell_type": "code",
   "execution_count": 48,
   "id": "e6bb21e7-5e07-4c79-860a-ac5f64899c9e",
   "metadata": {},
   "outputs": [],
   "source": [
    "loader=JSONLoader(file_path=\"data/json/facebook_chat.json\",\n",
    "                  jq_schema='.messages[]',  # VVI,\n",
    "                  content_key=\".content\", # Required\n",
    "                  text_content=False,\n",
    "                  is_content_key_jq_parsable=True  # Required\n",
    "                 )"
   ]
  },
  {
   "cell_type": "code",
   "execution_count": 49,
   "id": "0da43e76-8d0c-444a-99b6-f9923ff1b261",
   "metadata": {},
   "outputs": [
    {
     "data": {
      "text/plain": [
       "[Document(metadata={'source': 'D:\\\\python_projects\\\\Document_Loaders\\\\data\\\\json\\\\facebook_chat.json', 'seq_num': 1}, page_content='Bye!'),\n",
       " Document(metadata={'source': 'D:\\\\python_projects\\\\Document_Loaders\\\\data\\\\json\\\\facebook_chat.json', 'seq_num': 2}, page_content='Oh no worries! Bye'),\n",
       " Document(metadata={'source': 'D:\\\\python_projects\\\\Document_Loaders\\\\data\\\\json\\\\facebook_chat.json', 'seq_num': 3}, page_content='No Im sorry it was my mistake, the blue one is not for sale'),\n",
       " Document(metadata={'source': 'D:\\\\python_projects\\\\Document_Loaders\\\\data\\\\json\\\\facebook_chat.json', 'seq_num': 4}, page_content='I thought you were selling the blue one!'),\n",
       " Document(metadata={'source': 'D:\\\\python_projects\\\\Document_Loaders\\\\data\\\\json\\\\facebook_chat.json', 'seq_num': 5}, page_content='Im not interested in this bag. Im interested in the blue one!'),\n",
       " Document(metadata={'source': 'D:\\\\python_projects\\\\Document_Loaders\\\\data\\\\json\\\\facebook_chat.json', 'seq_num': 6}, page_content='Here is $129'),\n",
       " Document(metadata={'source': 'D:\\\\python_projects\\\\Document_Loaders\\\\data\\\\json\\\\facebook_chat.json', 'seq_num': 7}, page_content=''),\n",
       " Document(metadata={'source': 'D:\\\\python_projects\\\\Document_Loaders\\\\data\\\\json\\\\facebook_chat.json', 'seq_num': 8}, page_content='Online is at least $100'),\n",
       " Document(metadata={'source': 'D:\\\\python_projects\\\\Document_Loaders\\\\data\\\\json\\\\facebook_chat.json', 'seq_num': 9}, page_content='How much do you want?'),\n",
       " Document(metadata={'source': 'D:\\\\python_projects\\\\Document_Loaders\\\\data\\\\json\\\\facebook_chat.json', 'seq_num': 10}, page_content='Goodmorning! $50 is too low.'),\n",
       " Document(metadata={'source': 'D:\\\\python_projects\\\\Document_Loaders\\\\data\\\\json\\\\facebook_chat.json', 'seq_num': 11}, page_content='Hi! Im interested in your bag. Im offering $50. Let me know if you are interested. Thanks!')]"
      ]
     },
     "execution_count": 49,
     "metadata": {},
     "output_type": "execute_result"
    }
   ],
   "source": [
    "loader.load()"
   ]
  },
  {
   "cell_type": "markdown",
   "id": "7abaab63-cd0e-4ba9-8da8-7d0773f9a171",
   "metadata": {},
   "source": [
    "<h3>For Jsonl Files</h3>"
   ]
  },
  {
   "cell_type": "code",
   "execution_count": 50,
   "id": "85c03447-a044-4312-8016-cca5496d729d",
   "metadata": {},
   "outputs": [],
   "source": [
    "facebook_jsonl=(\n",
    "                {\"sender_name\": \"User 2\", \"timestamp_ms\": 1675597571851, \"content\": \"Bye!\"},\n",
    "                {\"sender_name\": \"User 1\", \"timestamp_ms\": 1675597435669, \"content\": \"Oh no worries! Bye\"},\n",
    "                {\"sender_name\": \"User 2\", \"timestamp_ms\": 1675596277579, \"content\": \"No Im sorry it was my mistake, the blue one is not for sale\"}\n",
    "               )"
   ]
  },
  {
   "cell_type": "code",
   "execution_count": 51,
   "id": "b2bdb10f-2934-4fba-8ee1-8296f5970d2f",
   "metadata": {},
   "outputs": [],
   "source": [
    "with open(file=\"data/json/facebook_chat.jsonl\",mode=\"w+\") as f:\n",
    "    json.dump(obj=facebook_jsonl,fp=f)"
   ]
  },
  {
   "cell_type": "code",
   "execution_count": 54,
   "id": "e48a16cf-62f1-4d3f-9f7e-cdd70c575dd4",
   "metadata": {},
   "outputs": [],
   "source": [
    "loader=JSONLoader(file_path=\"data/json/facebook_chat.jsonl\",\n",
    "                  jq_schema='.content',  # VVI\n",
    "                  text_content=False,\n",
    "                  json_lines=True  # Mandatory for jsonl files\n",
    "                 )"
   ]
  },
  {
   "cell_type": "code",
   "execution_count": 55,
   "id": "b0c161e2-692a-4e26-b382-716f0fbcf096",
   "metadata": {},
   "outputs": [
    {
     "ename": "ValueError",
     "evalue": "Cannot index array with string \"content\"",
     "output_type": "error",
     "traceback": [
      "\u001b[1;31m---------------------------------------------------------------------------\u001b[0m",
      "\u001b[1;31mValueError\u001b[0m                                Traceback (most recent call last)",
      "Cell \u001b[1;32mIn[55], line 1\u001b[0m\n\u001b[1;32m----> 1\u001b[0m \u001b[43mloader\u001b[49m\u001b[38;5;241;43m.\u001b[39;49m\u001b[43mload\u001b[49m\u001b[43m(\u001b[49m\u001b[43m)\u001b[49m\n",
      "File \u001b[1;32m~\\.conda\\envs\\oaivenv\\Lib\\site-packages\\langchain_core\\document_loaders\\base.py:31\u001b[0m, in \u001b[0;36mBaseLoader.load\u001b[1;34m(self)\u001b[0m\n\u001b[0;32m     29\u001b[0m \u001b[38;5;28;01mdef\u001b[39;00m \u001b[38;5;21mload\u001b[39m(\u001b[38;5;28mself\u001b[39m) \u001b[38;5;241m-\u001b[39m\u001b[38;5;241m>\u001b[39m \u001b[38;5;28mlist\u001b[39m[Document]:\n\u001b[0;32m     30\u001b[0m \u001b[38;5;250m    \u001b[39m\u001b[38;5;124;03m\"\"\"Load data into Document objects.\"\"\"\u001b[39;00m\n\u001b[1;32m---> 31\u001b[0m     \u001b[38;5;28;01mreturn\u001b[39;00m \u001b[38;5;28mlist\u001b[39m(\u001b[38;5;28mself\u001b[39m\u001b[38;5;241m.\u001b[39mlazy_load())\n",
      "File \u001b[1;32m~\\.conda\\envs\\oaivenv\\Lib\\site-packages\\langchain_community\\document_loaders\\json_loader.py:142\u001b[0m, in \u001b[0;36mJSONLoader.lazy_load\u001b[1;34m(self)\u001b[0m\n\u001b[0;32m    140\u001b[0m line \u001b[38;5;241m=\u001b[39m line\u001b[38;5;241m.\u001b[39mstrip()\n\u001b[0;32m    141\u001b[0m \u001b[38;5;28;01mif\u001b[39;00m line:\n\u001b[1;32m--> 142\u001b[0m \u001b[43m    \u001b[49m\u001b[38;5;28;43;01mfor\u001b[39;49;00m\u001b[43m \u001b[49m\u001b[43mdoc\u001b[49m\u001b[43m \u001b[49m\u001b[38;5;129;43;01min\u001b[39;49;00m\u001b[43m \u001b[49m\u001b[38;5;28;43mself\u001b[39;49m\u001b[38;5;241;43m.\u001b[39;49m\u001b[43m_parse\u001b[49m\u001b[43m(\u001b[49m\u001b[43mline\u001b[49m\u001b[43m,\u001b[49m\u001b[43m \u001b[49m\u001b[43mindex\u001b[49m\u001b[43m)\u001b[49m\u001b[43m:\u001b[49m\n\u001b[0;32m    143\u001b[0m \u001b[43m        \u001b[49m\u001b[38;5;28;43;01myield\u001b[39;49;00m\u001b[43m \u001b[49m\u001b[43mdoc\u001b[49m\n\u001b[0;32m    144\u001b[0m \u001b[43m        \u001b[49m\u001b[43mindex\u001b[49m\u001b[43m \u001b[49m\u001b[38;5;241;43m+\u001b[39;49m\u001b[38;5;241;43m=\u001b[39;49m\u001b[43m \u001b[49m\u001b[38;5;241;43m1\u001b[39;49m\n",
      "File \u001b[1;32m~\\.conda\\envs\\oaivenv\\Lib\\site-packages\\langchain_community\\document_loaders\\json_loader.py:162\u001b[0m, in \u001b[0;36mJSONLoader._parse\u001b[1;34m(self, content, index)\u001b[0m\n\u001b[0;32m    159\u001b[0m \u001b[38;5;28;01mif\u001b[39;00m \u001b[38;5;28mself\u001b[39m\u001b[38;5;241m.\u001b[39m_metadata_func \u001b[38;5;129;01mis\u001b[39;00m \u001b[38;5;129;01mnot\u001b[39;00m \u001b[38;5;28;01mNone\u001b[39;00m:\n\u001b[0;32m    160\u001b[0m     \u001b[38;5;28mself\u001b[39m\u001b[38;5;241m.\u001b[39m_validate_metadata_func(data)\n\u001b[1;32m--> 162\u001b[0m \u001b[43m\u001b[49m\u001b[38;5;28;43;01mfor\u001b[39;49;00m\u001b[43m \u001b[49m\u001b[43mi\u001b[49m\u001b[43m,\u001b[49m\u001b[43m \u001b[49m\u001b[43msample\u001b[49m\u001b[43m \u001b[49m\u001b[38;5;129;43;01min\u001b[39;49;00m\u001b[43m \u001b[49m\u001b[38;5;28;43menumerate\u001b[39;49m\u001b[43m(\u001b[49m\u001b[43mdata\u001b[49m\u001b[43m,\u001b[49m\u001b[43m \u001b[49m\u001b[43mindex\u001b[49m\u001b[43m \u001b[49m\u001b[38;5;241;43m+\u001b[39;49m\u001b[43m \u001b[49m\u001b[38;5;241;43m1\u001b[39;49m\u001b[43m)\u001b[49m\u001b[43m:\u001b[49m\n\u001b[0;32m    163\u001b[0m \u001b[43m    \u001b[49m\u001b[43mtext\u001b[49m\u001b[43m \u001b[49m\u001b[38;5;241;43m=\u001b[39;49m\u001b[43m \u001b[49m\u001b[38;5;28;43mself\u001b[39;49m\u001b[38;5;241;43m.\u001b[39;49m\u001b[43m_get_text\u001b[49m\u001b[43m(\u001b[49m\u001b[43msample\u001b[49m\u001b[38;5;241;43m=\u001b[39;49m\u001b[43msample\u001b[49m\u001b[43m)\u001b[49m\n\u001b[0;32m    164\u001b[0m \u001b[43m    \u001b[49m\u001b[43mmetadata\u001b[49m\u001b[43m \u001b[49m\u001b[38;5;241;43m=\u001b[39;49m\u001b[43m \u001b[49m\u001b[38;5;28;43mself\u001b[39;49m\u001b[38;5;241;43m.\u001b[39;49m\u001b[43m_get_metadata\u001b[49m\u001b[43m(\u001b[49m\n\u001b[0;32m    165\u001b[0m \u001b[43m        \u001b[49m\u001b[43msample\u001b[49m\u001b[38;5;241;43m=\u001b[39;49m\u001b[43msample\u001b[49m\u001b[43m,\u001b[49m\u001b[43m \u001b[49m\u001b[43msource\u001b[49m\u001b[38;5;241;43m=\u001b[39;49m\u001b[38;5;28;43mstr\u001b[39;49m\u001b[43m(\u001b[49m\u001b[38;5;28;43mself\u001b[39;49m\u001b[38;5;241;43m.\u001b[39;49m\u001b[43mfile_path\u001b[49m\u001b[43m)\u001b[49m\u001b[43m,\u001b[49m\u001b[43m \u001b[49m\u001b[43mseq_num\u001b[49m\u001b[38;5;241;43m=\u001b[39;49m\u001b[43mi\u001b[49m\n\u001b[0;32m    166\u001b[0m \u001b[43m    \u001b[49m\u001b[43m)\u001b[49m\n",
      "File \u001b[1;32mjq.pyx:366\u001b[0m, in \u001b[0;36mjq._ResultIterator.__next__\u001b[1;34m()\u001b[0m\n",
      "\u001b[1;31mValueError\u001b[0m: Cannot index array with string \"content\""
     ]
    }
   ],
   "source": [
    "loader.load()"
   ]
  },
  {
   "cell_type": "markdown",
   "id": "a389cb10-7a82-4635-91e0-195dc7879a03",
   "metadata": {},
   "source": [
    "<h3>Extracting Metadata</h3>"
   ]
  },
  {
   "cell_type": "code",
   "execution_count": 64,
   "id": "ed0b18c5-e62b-42f9-a4b3-f087d0bff089",
   "metadata": {},
   "outputs": [],
   "source": [
    "# Define the Metadata Extraction Function\n",
    "def metadata_func(record:dict, metadata:dict) -> dict:\n",
    "    metadata[\"sender_name\"]=record.get(\"sender_name\")\n",
    "    metadata[\"timestamp_ms\"]=record.get(\"timestamp_ms\")\n",
    "    return metadata"
   ]
  },
  {
   "cell_type": "code",
   "execution_count": 65,
   "id": "53c2a26f-385c-4568-b792-ff5d3c9e9f35",
   "metadata": {},
   "outputs": [],
   "source": [
    "loader=JSONLoader(file_path=\"data/json/facebook_chat.json\",\n",
    "                  jq_schema='.messages[]',  # VVI,\n",
    "                  content_key=\".content\", # Required\n",
    "                  text_content=False,\n",
    "                  is_content_key_jq_parsable=True,  # Required,\n",
    "                  metadata_func=metadata_func  # Required\n",
    "                 )"
   ]
  },
  {
   "cell_type": "code",
   "execution_count": 66,
   "id": "8448387c-5c82-4c85-bfdc-b2e4d697f512",
   "metadata": {},
   "outputs": [
    {
     "data": {
      "text/plain": [
       "[Document(metadata={'source': 'D:\\\\python_projects\\\\Document_Loaders\\\\data\\\\json\\\\facebook_chat.json', 'seq_num': 1, 'sender_name': 'User 2', 'timestamp_ms': 1675597571851}, page_content='Bye!'),\n",
       " Document(metadata={'source': 'D:\\\\python_projects\\\\Document_Loaders\\\\data\\\\json\\\\facebook_chat.json', 'seq_num': 2, 'sender_name': 'User 1', 'timestamp_ms': 1675597435669}, page_content='Oh no worries! Bye'),\n",
       " Document(metadata={'source': 'D:\\\\python_projects\\\\Document_Loaders\\\\data\\\\json\\\\facebook_chat.json', 'seq_num': 3, 'sender_name': 'User 2', 'timestamp_ms': 1675596277579}, page_content='No Im sorry it was my mistake, the blue one is not for sale'),\n",
       " Document(metadata={'source': 'D:\\\\python_projects\\\\Document_Loaders\\\\data\\\\json\\\\facebook_chat.json', 'seq_num': 4, 'sender_name': 'User 1', 'timestamp_ms': 1675595140251}, page_content='I thought you were selling the blue one!'),\n",
       " Document(metadata={'source': 'D:\\\\python_projects\\\\Document_Loaders\\\\data\\\\json\\\\facebook_chat.json', 'seq_num': 5, 'sender_name': 'User 1', 'timestamp_ms': 1675595109305}, page_content='Im not interested in this bag. Im interested in the blue one!'),\n",
       " Document(metadata={'source': 'D:\\\\python_projects\\\\Document_Loaders\\\\data\\\\json\\\\facebook_chat.json', 'seq_num': 6, 'sender_name': 'User 2', 'timestamp_ms': 1675595068468}, page_content='Here is $129'),\n",
       " Document(metadata={'source': 'D:\\\\python_projects\\\\Document_Loaders\\\\data\\\\json\\\\facebook_chat.json', 'seq_num': 7, 'sender_name': 'User 2', 'timestamp_ms': 1675595060730}, page_content=''),\n",
       " Document(metadata={'source': 'D:\\\\python_projects\\\\Document_Loaders\\\\data\\\\json\\\\facebook_chat.json', 'seq_num': 8, 'sender_name': 'User 2', 'timestamp_ms': 1675595045152}, page_content='Online is at least $100'),\n",
       " Document(metadata={'source': 'D:\\\\python_projects\\\\Document_Loaders\\\\data\\\\json\\\\facebook_chat.json', 'seq_num': 9, 'sender_name': 'User 1', 'timestamp_ms': 1675594799696}, page_content='How much do you want?'),\n",
       " Document(metadata={'source': 'D:\\\\python_projects\\\\Document_Loaders\\\\data\\\\json\\\\facebook_chat.json', 'seq_num': 10, 'sender_name': 'User 2', 'timestamp_ms': 1675577876645}, page_content='Goodmorning! $50 is too low.'),\n",
       " Document(metadata={'source': 'D:\\\\python_projects\\\\Document_Loaders\\\\data\\\\json\\\\facebook_chat.json', 'seq_num': 11, 'sender_name': 'User 1', 'timestamp_ms': 1675549022673}, page_content='Hi! Im interested in your bag. Im offering $50. Let me know if you are interested. Thanks!')]"
      ]
     },
     "execution_count": 66,
     "metadata": {},
     "output_type": "execute_result"
    }
   ],
   "source": [
    "loader.load()"
   ]
  },
  {
   "cell_type": "markdown",
   "id": "4806bca5-21f8-42eb-add8-64e214fd3b01",
   "metadata": {},
   "source": [
    "<h3>Modifying the Source in the Metadata function</h3>"
   ]
  },
  {
   "cell_type": "code",
   "execution_count": 91,
   "id": "55ed7560-949c-4e6b-a162-88ecea0fbc69",
   "metadata": {},
   "outputs": [],
   "source": [
    "# Define the Metadata Extraction Function\n",
    "def metadata_func(record:dict, metadata:dict) -> dict:\n",
    "    metadata[\"sender_name\"]=record.get(\"sender_name\")\n",
    "    metadata[\"timestamp_ms\"]=record.get(\"timestamp_ms\")\n",
    "\n",
    "    if \"source\" in metadata:\n",
    "        source=metadata[\"source\"].split(\"\\\\\")\n",
    "        source[1]=\"ritish_\"+source[1]\n",
    "        metadata[\"source\"]=\"\\\\\".join(source)\n",
    "    return metadata"
   ]
  },
  {
   "cell_type": "code",
   "execution_count": 92,
   "id": "51d8c32e-68a5-41df-82ef-d9618eb3a027",
   "metadata": {},
   "outputs": [],
   "source": [
    "loader=JSONLoader(file_path=\"data/json/facebook_chat.json\",\n",
    "                  jq_schema='.messages[]',  # VVI,\n",
    "                  content_key=\".content\", # Required\n",
    "                  text_content=False,\n",
    "                  is_content_key_jq_parsable=True,  # Required,\n",
    "                  metadata_func=metadata_func  # Required\n",
    "                 )"
   ]
  },
  {
   "cell_type": "code",
   "execution_count": 93,
   "id": "ba0d5ffd-7042-41ab-9f28-80d498ef5ae2",
   "metadata": {},
   "outputs": [
    {
     "data": {
      "text/plain": [
       "[Document(metadata={'source': 'D:\\\\ritish_python_projects\\\\Document_Loaders\\\\data\\\\json\\\\facebook_chat.json', 'seq_num': 1, 'sender_name': 'User 2', 'timestamp_ms': 1675597571851}, page_content='Bye!'),\n",
       " Document(metadata={'source': 'D:\\\\ritish_python_projects\\\\Document_Loaders\\\\data\\\\json\\\\facebook_chat.json', 'seq_num': 2, 'sender_name': 'User 1', 'timestamp_ms': 1675597435669}, page_content='Oh no worries! Bye'),\n",
       " Document(metadata={'source': 'D:\\\\ritish_python_projects\\\\Document_Loaders\\\\data\\\\json\\\\facebook_chat.json', 'seq_num': 3, 'sender_name': 'User 2', 'timestamp_ms': 1675596277579}, page_content='No Im sorry it was my mistake, the blue one is not for sale'),\n",
       " Document(metadata={'source': 'D:\\\\ritish_python_projects\\\\Document_Loaders\\\\data\\\\json\\\\facebook_chat.json', 'seq_num': 4, 'sender_name': 'User 1', 'timestamp_ms': 1675595140251}, page_content='I thought you were selling the blue one!'),\n",
       " Document(metadata={'source': 'D:\\\\ritish_python_projects\\\\Document_Loaders\\\\data\\\\json\\\\facebook_chat.json', 'seq_num': 5, 'sender_name': 'User 1', 'timestamp_ms': 1675595109305}, page_content='Im not interested in this bag. Im interested in the blue one!'),\n",
       " Document(metadata={'source': 'D:\\\\ritish_python_projects\\\\Document_Loaders\\\\data\\\\json\\\\facebook_chat.json', 'seq_num': 6, 'sender_name': 'User 2', 'timestamp_ms': 1675595068468}, page_content='Here is $129'),\n",
       " Document(metadata={'source': 'D:\\\\ritish_python_projects\\\\Document_Loaders\\\\data\\\\json\\\\facebook_chat.json', 'seq_num': 7, 'sender_name': 'User 2', 'timestamp_ms': 1675595060730}, page_content=''),\n",
       " Document(metadata={'source': 'D:\\\\ritish_python_projects\\\\Document_Loaders\\\\data\\\\json\\\\facebook_chat.json', 'seq_num': 8, 'sender_name': 'User 2', 'timestamp_ms': 1675595045152}, page_content='Online is at least $100'),\n",
       " Document(metadata={'source': 'D:\\\\ritish_python_projects\\\\Document_Loaders\\\\data\\\\json\\\\facebook_chat.json', 'seq_num': 9, 'sender_name': 'User 1', 'timestamp_ms': 1675594799696}, page_content='How much do you want?'),\n",
       " Document(metadata={'source': 'D:\\\\ritish_python_projects\\\\Document_Loaders\\\\data\\\\json\\\\facebook_chat.json', 'seq_num': 10, 'sender_name': 'User 2', 'timestamp_ms': 1675577876645}, page_content='Goodmorning! $50 is too low.'),\n",
       " Document(metadata={'source': 'D:\\\\ritish_python_projects\\\\Document_Loaders\\\\data\\\\json\\\\facebook_chat.json', 'seq_num': 11, 'sender_name': 'User 1', 'timestamp_ms': 1675549022673}, page_content='Hi! Im interested in your bag. Im offering $50. Let me know if you are interested. Thanks!')]"
      ]
     },
     "execution_count": 93,
     "metadata": {},
     "output_type": "execute_result"
    }
   ],
   "source": [
    "loader.load()"
   ]
  },
  {
   "cell_type": "code",
   "execution_count": null,
   "id": "53124d53-1ac7-4b5f-a651-8d88ca3633f2",
   "metadata": {},
   "outputs": [],
   "source": []
  }
 ],
 "metadata": {
  "kernelspec": {
   "display_name": "Python 3 (ipykernel)",
   "language": "python",
   "name": "python3"
  },
  "language_info": {
   "codemirror_mode": {
    "name": "ipython",
    "version": 3
   },
   "file_extension": ".py",
   "mimetype": "text/x-python",
   "name": "python",
   "nbconvert_exporter": "python",
   "pygments_lexer": "ipython3",
   "version": "3.11.9"
  }
 },
 "nbformat": 4,
 "nbformat_minor": 5
}
