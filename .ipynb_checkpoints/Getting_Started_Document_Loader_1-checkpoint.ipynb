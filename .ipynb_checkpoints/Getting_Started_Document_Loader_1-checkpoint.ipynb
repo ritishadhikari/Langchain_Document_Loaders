{
 "cells": [
  {
   "cell_type": "code",
   "execution_count": 1,
   "id": "2ae8f1a9-affa-41ab-ad01-b640fd25c47d",
   "metadata": {},
   "outputs": [],
   "source": [
    "from dotenv import load_dotenv,find_dotenv\n",
    "from langchain_google_genai import ChatGoogleGenerativeAI\n",
    "from langchain_openai import ChatOpenAI\n",
    "from pathlib import Path\n",
    "import os\n",
    "\n",
    "from langchain_community.document_loaders import TextLoader"
   ]
  },
  {
   "cell_type": "code",
   "execution_count": 2,
   "id": "362e1537",
   "metadata": {},
   "outputs": [
    {
     "data": {
      "text/plain": [
       "'d:\\\\LLMOPS\\\\Langchain_Framework\\\\Document_Loaders\\\\.ipynb_checkpoints'"
      ]
     },
     "execution_count": 2,
     "metadata": {},
     "output_type": "execute_result"
    }
   ],
   "source": [
    "os.getcwd()"
   ]
  },
  {
   "cell_type": "code",
   "execution_count": 4,
   "id": "afd98c94-31ff-42ae-9c82-2e30853dc38a",
   "metadata": {},
   "outputs": [],
   "source": [
    "dataPath=Path(r\"D:\\LLMOPS\\Langchain_Framework\\Document_Loaders\\data\\intro.txt\")"
   ]
  },
  {
   "cell_type": "code",
   "execution_count": 5,
   "id": "64b348dc-e23f-4f5c-ba0d-e0993b276333",
   "metadata": {},
   "outputs": [],
   "source": [
    "loader=TextLoader(file_path=dataPath)"
   ]
  },
  {
   "cell_type": "code",
   "execution_count": 6,
   "id": "86c309a0-c240-4122-bf93-832bdbbf26e7",
   "metadata": {},
   "outputs": [],
   "source": [
    "loadedData=loader.load()"
   ]
  },
  {
   "cell_type": "code",
   "execution_count": 7,
   "id": "d52d88b1-8182-4b8a-87d2-ba9b0739c605",
   "metadata": {},
   "outputs": [
    {
     "data": {
      "text/plain": [
       "[Document(metadata={'source': 'D:\\\\LLMOPS\\\\Langchain_Framework\\\\Document_Loaders\\\\data\\\\intro.txt'}, page_content='Hi I am testing this application.')]"
      ]
     },
     "execution_count": 7,
     "metadata": {},
     "output_type": "execute_result"
    }
   ],
   "source": [
    "loadedData"
   ]
  },
  {
   "cell_type": "code",
   "execution_count": 8,
   "id": "69d21151-f269-4c6d-bf61-c0c42439e228",
   "metadata": {},
   "outputs": [
    {
     "data": {
      "text/plain": [
       "'Hi I am testing this application.'"
      ]
     },
     "execution_count": 8,
     "metadata": {},
     "output_type": "execute_result"
    }
   ],
   "source": [
    "loadedData[0].page_content"
   ]
  },
  {
   "cell_type": "code",
   "execution_count": null,
   "id": "29aae980-f3d5-4274-bc90-8d5e4b0f2a30",
   "metadata": {},
   "outputs": [],
   "source": []
  }
 ],
 "metadata": {
  "kernelspec": {
   "display_name": "lcnenv",
   "language": "python",
   "name": "python3"
  },
  "language_info": {
   "codemirror_mode": {
    "name": "ipython",
    "version": 3
   },
   "file_extension": ".py",
   "mimetype": "text/x-python",
   "name": "python",
   "nbconvert_exporter": "python",
   "pygments_lexer": "ipython3",
   "version": "3.11.11"
  }
 },
 "nbformat": 4,
 "nbformat_minor": 5
}
