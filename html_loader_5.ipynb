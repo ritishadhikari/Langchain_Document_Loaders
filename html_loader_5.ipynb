{
 "cells": [
  {
   "cell_type": "code",
   "execution_count": 8,
   "id": "c1dcfcb4-4e18-4279-9560-2d900cdaac3c",
   "metadata": {},
   "outputs": [],
   "source": [
    "from dotenv import load_dotenv,find_dotenv\n",
    "from langchain_google_genai import ChatGoogleGenerativeAI\n",
    "from langchain_openai import ChatOpenAI\n",
    "from pathlib import Path\n",
    "\n",
    "from langchain_community.document_loaders import (\n",
    "    UnstructuredHTMLLoader, BSHTMLLoader)"
   ]
  },
  {
   "cell_type": "code",
   "execution_count": 2,
   "id": "d9f49219-c3d5-4d9b-baae-492a8842f95a",
   "metadata": {},
   "outputs": [],
   "source": [
    "filePath=\"data/html_files/sample1.html\""
   ]
  },
  {
   "cell_type": "markdown",
   "id": "35aa440e-9be2-47c9-9e73-acd6fb80096b",
   "metadata": {},
   "source": [
    "<h3>Using Unstructured Data Loader</h3>"
   ]
  },
  {
   "cell_type": "code",
   "execution_count": 4,
   "id": "0020f819-d287-4f9d-b2e2-c9ec7085294a",
   "metadata": {},
   "outputs": [],
   "source": [
    "loader=UnstructuredHTMLLoader(file_path=filePath)"
   ]
  },
  {
   "cell_type": "code",
   "execution_count": 5,
   "id": "74d5845e-93d8-4400-9dbe-3d841f442360",
   "metadata": {},
   "outputs": [],
   "source": [
    "data=loader.load()"
   ]
  },
  {
   "cell_type": "code",
   "execution_count": 6,
   "id": "47cf533d-c8fa-4208-8f80-7158d5b9bebc",
   "metadata": {},
   "outputs": [
    {
     "name": "stdout",
     "output_type": "stream",
     "text": [
      "page_content='Sample HTML 1\n",
      "\n",
      "Minime vero, inquit ille, consentit.\n",
      "\n",
      "Lorem ipsum dolor sit amet, consectetur adipiscing elit. Inscite autem medicinae et gubernationis ultimum cum ultimo sapientiae comparatur. Cur igitur, cum de re conveniat, non malumus usitate loqui?\n",
      "\n",
      "Si qua in iis corrigere voluit, deteriora fecit.\n",
      "\n",
      "At quicum ioca seria, ut dicitur, quicum arcana, quicum occulta omnia?\n",
      "\n",
      "An dolor longissimus quisque miserrimus, voluptatem non optabiliorem diuturnitas facit?\n",
      "\n",
      "Multoque hoc melius nos veriusque quam Stoici.\n",
      "\n",
      "Stuprata per vim Lucretia a regis filio testata civis se ipsa interemit.\n",
      "\n",
      "Ego vero isti, inquam, permitto.\n",
      "\n",
      "Graecum enim hunc versum nostis omnes-: Suavis laborum est praeteritorum memoria. Qui enim existimabit posse se miserum esse beatus non erit. Si qua in iis corrigere voluit, deteriora fecit. Si qua in iis corrigere voluit, deteriora fecit. Dic in quovis conventu te omnia facere, ne doleas. Tu quidem reddes;\n",
      "\n",
      "Duo Reges: constructio interrete.\n",
      "\n",
      "Contineo me ab exemplis.\n",
      "\n",
      "Quo plebiscito decreta a senatu est consuli quaestio Cn.\n",
      "\n",
      "Quicquid porro animo cernimus, id omne oritur a sensibus;\n",
      "\n",
      "Eam si varietatem diceres, intellegerem, ut etiam non dicente te intellego;\n",
      "\n",
      "Qua ex cognitione facilior facta est investigatio rerum occultissimarum.\n",
      "\n",
      "Me igitur ipsum ames oportet, non mea, si veri amici futuri sumus.' metadata={'source': 'data/html_files/sample1.html'}\n"
     ]
    }
   ],
   "source": [
    "print(data[0])"
   ]
  },
  {
   "cell_type": "markdown",
   "id": "4137b4d0-a445-459b-94d8-6603325e2234",
   "metadata": {},
   "source": [
    "<h3>Using Beautiful Soup</h3>"
   ]
  },
  {
   "cell_type": "code",
   "execution_count": 7,
   "id": "4753d489-8d6d-4fe5-817a-e7d7eb5ce018",
   "metadata": {},
   "outputs": [],
   "source": [
    "loader=BSHTMLLoader(file_path=filePath)"
   ]
  },
  {
   "cell_type": "code",
   "execution_count": 9,
   "id": "114e5555-91dd-426f-8bc9-a497694b449b",
   "metadata": {},
   "outputs": [],
   "source": [
    "data=loader.load()"
   ]
  },
  {
   "cell_type": "code",
   "execution_count": 10,
   "id": "ffdc15c9-77b6-4afb-9d8c-d308da5a6410",
   "metadata": {},
   "outputs": [
    {
     "name": "stdout",
     "output_type": "stream",
     "text": [
      "page_content='\n",
      "\n",
      "\n",
      "\n",
      "\n",
      "\n",
      "\n",
      "\n",
      "\n",
      "\n",
      "\n",
      "\n",
      "\n",
      "\n",
      "Sample HTML 1\n",
      "\n",
      "\n",
      "\n",
      "\n",
      "\n",
      "\n",
      "\n",
      "\n",
      "\tSample HTML 1\n",
      "\tMinime vero, inquit ille, consentit.\n",
      "Lorem ipsum dolor sit amet, consectetur adipiscing elit. Inscite autem medicinae et gubernationis ultimum cum ultimo sapientiae comparatur. Cur igitur, cum de re conveniat, non malumus usitate loqui? \n",
      "\n",
      "Si qua in iis corrigere voluit, deteriora fecit.\n",
      "At quicum ioca seria, ut dicitur, quicum arcana, quicum occulta omnia?\n",
      "An dolor longissimus quisque miserrimus, voluptatem non optabiliorem diuturnitas facit?\n",
      "Multoque hoc melius nos veriusque quam Stoici.\n",
      "Stuprata per vim Lucretia a regis filio testata civis se ipsa interemit.\n",
      "Ego vero isti, inquam, permitto.\n",
      "\n",
      "Graecum enim hunc versum nostis omnes-: Suavis laborum est praeteritorum memoria. Qui enim existimabit posse se miserum esse beatus non erit. Si qua in iis corrigere voluit, deteriora fecit. Si qua in iis corrigere voluit, deteriora fecit. Dic in quovis conventu te omnia facere, ne doleas. Tu quidem reddes; \n",
      "\n",
      "Duo Reges: constructio interrete.\n",
      "Contineo me ab exemplis.\n",
      "Quo plebiscito decreta a senatu est consuli quaestio Cn.\n",
      "Quicquid porro animo cernimus, id omne oritur a sensibus;\n",
      "Eam si varietatem diceres, intellegerem, ut etiam non dicente te intellego;\n",
      "Qua ex cognitione facilior facta est investigatio rerum occultissimarum.\n",
      "\n",
      "\n",
      "\t\tMe igitur ipsum ames oportet, non mea, si veri amici futuri sumus.\n",
      "\t\n",
      "\n",
      "\n",
      "\n",
      "x\n",
      "\n",
      "\n",
      "\n",
      "\n",
      "\n",
      "\n",
      "\n",
      "\n",
      "' metadata={'source': 'data/html_files/sample1.html', 'title': 'Sample HTML 1'}\n"
     ]
    }
   ],
   "source": [
    "print(data[0])"
   ]
  },
  {
   "cell_type": "markdown",
   "id": "9f153a55-2c9c-4c66-b777-20a3d0380f61",
   "metadata": {},
   "source": [
    "<h4>Other HTML Loaders Includes Spider Loader, FireCrawlLoader and AzureDcumentIntelligenceLoader</h4>"
   ]
  },
  {
   "cell_type": "code",
   "execution_count": null,
   "id": "1a33a80e-79cb-4f6b-88ca-dc9a42ca6aa4",
   "metadata": {},
   "outputs": [],
   "source": []
  }
 ],
 "metadata": {
  "kernelspec": {
   "display_name": "lcnenv",
   "language": "python",
   "name": "python3"
  },
  "language_info": {
   "codemirror_mode": {
    "name": "ipython",
    "version": 3
   },
   "file_extension": ".py",
   "mimetype": "text/x-python",
   "name": "python",
   "nbconvert_exporter": "python",
   "pygments_lexer": "ipython3",
   "version": "3.11.11"
  }
 },
 "nbformat": 4,
 "nbformat_minor": 5
}
