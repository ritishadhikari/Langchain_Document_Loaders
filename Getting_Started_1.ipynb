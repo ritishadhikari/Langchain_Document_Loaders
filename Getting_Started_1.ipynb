{
 "cells": [
  {
   "cell_type": "code",
   "execution_count": 3,
   "id": "2ae8f1a9-affa-41ab-ad01-b640fd25c47d",
   "metadata": {},
   "outputs": [],
   "source": [
    "from dotenv import load_dotenv,find_dotenv\n",
    "from langchain_google_genai import ChatGoogleGenerativeAI\n",
    "from langchain_openai import ChatOpenAI\n",
    "from pathlib import Path\n",
    "\n",
    "from langchain_community.document_loaders import TextLoader"
   ]
  },
  {
   "cell_type": "code",
   "execution_count": 4,
   "id": "afd98c94-31ff-42ae-9c82-2e30853dc38a",
   "metadata": {},
   "outputs": [],
   "source": [
    "dataPath=Path(\"data\").joinpath(\"intro.txt\")"
   ]
  },
  {
   "cell_type": "code",
   "execution_count": 16,
   "id": "64b348dc-e23f-4f5c-ba0d-e0993b276333",
   "metadata": {},
   "outputs": [],
   "source": [
    "loader=TextLoader(file_path=dataPath)"
   ]
  },
  {
   "cell_type": "code",
   "execution_count": 17,
   "id": "86c309a0-c240-4122-bf93-832bdbbf26e7",
   "metadata": {},
   "outputs": [],
   "source": [
    "loadedData=loader.load()"
   ]
  },
  {
   "cell_type": "code",
   "execution_count": 18,
   "id": "d52d88b1-8182-4b8a-87d2-ba9b0739c605",
   "metadata": {},
   "outputs": [
    {
     "data": {
      "text/plain": [
       "[Document(metadata={'source': 'data\\\\intro.txt'}, page_content='Hi I am tessting this application.')]"
      ]
     },
     "execution_count": 18,
     "metadata": {},
     "output_type": "execute_result"
    }
   ],
   "source": [
    "loadedData"
   ]
  },
  {
   "cell_type": "code",
   "execution_count": 19,
   "id": "69d21151-f269-4c6d-bf61-c0c42439e228",
   "metadata": {},
   "outputs": [
    {
     "data": {
      "text/plain": [
       "'Hi I am tessting this application.'"
      ]
     },
     "execution_count": 19,
     "metadata": {},
     "output_type": "execute_result"
    }
   ],
   "source": [
    "loadedData[0].page_content"
   ]
  },
  {
   "cell_type": "code",
   "execution_count": null,
   "id": "29aae980-f3d5-4274-bc90-8d5e4b0f2a30",
   "metadata": {},
   "outputs": [],
   "source": []
  },
  {
   "cell_type": "code",
   "execution_count": null,
   "id": "ee4aa427-d508-4b3f-adeb-85c98fa2bb1d",
   "metadata": {},
   "outputs": [],
   "source": []
  }
 ],
 "metadata": {
  "kernelspec": {
   "display_name": "Python 3 (ipykernel)",
   "language": "python",
   "name": "python3"
  },
  "language_info": {
   "codemirror_mode": {
    "name": "ipython",
    "version": 3
   },
   "file_extension": ".py",
   "mimetype": "text/x-python",
   "name": "python",
   "nbconvert_exporter": "python",
   "pygments_lexer": "ipython3",
   "version": "3.11.9"
  }
 },
 "nbformat": 4,
 "nbformat_minor": 5
}
