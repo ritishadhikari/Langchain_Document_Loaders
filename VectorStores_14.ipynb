{
 "cells": [
  {
   "cell_type": "code",
   "execution_count": 1,
   "id": "6ec5fce3-aaea-4012-b293-a32837368930",
   "metadata": {
    "scrolled": true
   },
   "outputs": [
    {
     "name": "stdout",
     "output_type": "stream",
     "text": [
      "Collecting qdrant-client\n",
      "  Downloading qdrant_client-1.14.2-py3-none-any.whl.metadata (10 kB)\n",
      "Requirement already satisfied: grpcio>=1.41.0 in c:\\users\\msi\\anaconda3\\envs\\lcnenv\\lib\\site-packages (from qdrant-client) (1.72.0rc1)\n",
      "Requirement already satisfied: httpx>=0.20.0 in c:\\users\\msi\\anaconda3\\envs\\lcnenv\\lib\\site-packages (from httpx[http2]>=0.20.0->qdrant-client) (0.28.1)\n",
      "Requirement already satisfied: numpy>=1.21 in c:\\users\\msi\\anaconda3\\envs\\lcnenv\\lib\\site-packages (from qdrant-client) (2.2.5)\n",
      "Collecting portalocker<3.0.0,>=2.7.0 (from qdrant-client)\n",
      "  Downloading portalocker-2.10.1-py3-none-any.whl.metadata (8.5 kB)\n",
      "Requirement already satisfied: protobuf>=3.20.0 in c:\\users\\msi\\anaconda3\\envs\\lcnenv\\lib\\site-packages (from qdrant-client) (5.29.4)\n",
      "Requirement already satisfied: pydantic!=2.0.*,!=2.1.*,!=2.2.0,>=1.10.8 in c:\\users\\msi\\anaconda3\\envs\\lcnenv\\lib\\site-packages (from qdrant-client) (2.11.3)\n",
      "Requirement already satisfied: urllib3<3,>=1.26.14 in c:\\users\\msi\\anaconda3\\envs\\lcnenv\\lib\\site-packages (from qdrant-client) (2.4.0)\n",
      "Requirement already satisfied: anyio in c:\\users\\msi\\anaconda3\\envs\\lcnenv\\lib\\site-packages (from httpx>=0.20.0->httpx[http2]>=0.20.0->qdrant-client) (4.9.0)\n",
      "Requirement already satisfied: certifi in c:\\users\\msi\\anaconda3\\envs\\lcnenv\\lib\\site-packages (from httpx>=0.20.0->httpx[http2]>=0.20.0->qdrant-client) (2025.1.31)\n",
      "Requirement already satisfied: httpcore==1.* in c:\\users\\msi\\anaconda3\\envs\\lcnenv\\lib\\site-packages (from httpx>=0.20.0->httpx[http2]>=0.20.0->qdrant-client) (1.0.8)\n",
      "Requirement already satisfied: idna in c:\\users\\msi\\anaconda3\\envs\\lcnenv\\lib\\site-packages (from httpx>=0.20.0->httpx[http2]>=0.20.0->qdrant-client) (3.10)\n",
      "Requirement already satisfied: h11<0.15,>=0.13 in c:\\users\\msi\\anaconda3\\envs\\lcnenv\\lib\\site-packages (from httpcore==1.*->httpx>=0.20.0->httpx[http2]>=0.20.0->qdrant-client) (0.14.0)\n",
      "Collecting h2<5,>=3 (from httpx[http2]>=0.20.0->qdrant-client)\n",
      "  Downloading h2-4.2.0-py3-none-any.whl.metadata (5.1 kB)\n",
      "Requirement already satisfied: pywin32>=226 in c:\\users\\msi\\anaconda3\\envs\\lcnenv\\lib\\site-packages (from portalocker<3.0.0,>=2.7.0->qdrant-client) (310)\n",
      "Requirement already satisfied: annotated-types>=0.6.0 in c:\\users\\msi\\anaconda3\\envs\\lcnenv\\lib\\site-packages (from pydantic!=2.0.*,!=2.1.*,!=2.2.0,>=1.10.8->qdrant-client) (0.7.0)\n",
      "Requirement already satisfied: pydantic-core==2.33.1 in c:\\users\\msi\\anaconda3\\envs\\lcnenv\\lib\\site-packages (from pydantic!=2.0.*,!=2.1.*,!=2.2.0,>=1.10.8->qdrant-client) (2.33.1)\n",
      "Requirement already satisfied: typing-extensions>=4.12.2 in c:\\users\\msi\\anaconda3\\envs\\lcnenv\\lib\\site-packages (from pydantic!=2.0.*,!=2.1.*,!=2.2.0,>=1.10.8->qdrant-client) (4.13.2)\n",
      "Requirement already satisfied: typing-inspection>=0.4.0 in c:\\users\\msi\\anaconda3\\envs\\lcnenv\\lib\\site-packages (from pydantic!=2.0.*,!=2.1.*,!=2.2.0,>=1.10.8->qdrant-client) (0.4.0)\n",
      "Collecting hyperframe<7,>=6.1 (from h2<5,>=3->httpx[http2]>=0.20.0->qdrant-client)\n",
      "  Downloading hyperframe-6.1.0-py3-none-any.whl.metadata (4.3 kB)\n",
      "Collecting hpack<5,>=4.1 (from h2<5,>=3->httpx[http2]>=0.20.0->qdrant-client)\n",
      "  Downloading hpack-4.1.0-py3-none-any.whl.metadata (4.6 kB)\n",
      "Requirement already satisfied: sniffio>=1.1 in c:\\users\\msi\\anaconda3\\envs\\lcnenv\\lib\\site-packages (from anyio->httpx>=0.20.0->httpx[http2]>=0.20.0->qdrant-client) (1.3.1)\n",
      "Downloading qdrant_client-1.14.2-py3-none-any.whl (327 kB)\n",
      "Downloading portalocker-2.10.1-py3-none-any.whl (18 kB)\n",
      "Downloading h2-4.2.0-py3-none-any.whl (60 kB)\n",
      "Downloading hpack-4.1.0-py3-none-any.whl (34 kB)\n",
      "Downloading hyperframe-6.1.0-py3-none-any.whl (13 kB)\n",
      "Installing collected packages: portalocker, hyperframe, hpack, h2, qdrant-client\n",
      "Successfully installed h2-4.2.0 hpack-4.1.0 hyperframe-6.1.0 portalocker-2.10.1 qdrant-client-1.14.2\n"
     ]
    }
   ],
   "source": [
    "!pip install qdrant-client"
   ]
  },
  {
   "cell_type": "code",
   "execution_count": 10,
   "id": "cdf69eb2-c8e2-4f55-89ff-031f940016a3",
   "metadata": {},
   "outputs": [],
   "source": [
    "from dotenv import load_dotenv,find_dotenv\n",
    "from langchain_google_genai import ChatGoogleGenerativeAI\n",
    "from langchain_openai import ChatOpenAI\n",
    "from pathlib import Path\n",
    "from dotenv import load_dotenv,find_dotenv\n",
    "\n",
    "from langchain.embeddings import SentenceTransformerEmbeddings\n",
    "from langchain_openai import OpenAIEmbeddings\n",
    "from langchain_text_splitters import CharacterTextSplitter, RecursiveCharacterTextSplitter\n",
    "from langchain.document_loaders import TextLoader\n",
    "from langchain.vectorstores import FAISS,Qdrant"
   ]
  },
  {
   "cell_type": "code",
   "execution_count": 11,
   "id": "2b61b20f-dae2-4f6e-aa37-56eae4201255",
   "metadata": {},
   "outputs": [
    {
     "data": {
      "text/plain": [
       "True"
      ]
     },
     "execution_count": 11,
     "metadata": {},
     "output_type": "execute_result"
    }
   ],
   "source": [
    "load_dotenv(find_dotenv(\"../.env\"))"
   ]
  },
  {
   "cell_type": "code",
   "execution_count": 12,
   "id": "a0d1a1f7-e348-4335-8eac-6f6a0c6fe90a",
   "metadata": {},
   "outputs": [],
   "source": [
    "filePath=Path(\"data\").joinpath(\"letters\").joinpath(\"state_of_the_union.txt\")"
   ]
  },
  {
   "cell_type": "code",
   "execution_count": 13,
   "id": "b0855569-6389-47fe-8b32-28295e251dd9",
   "metadata": {},
   "outputs": [],
   "source": [
    "rawDocument=TextLoader(file_path=filePath,encoding=\"utf-8\").load()\n",
    "splittedDocuments=RecursiveCharacterTextSplitter(chunk_size=1000,chunk_overlap=10).split_documents(documents=rawDocument)"
   ]
  },
  {
   "cell_type": "code",
   "execution_count": 14,
   "id": "527e375f-cc1d-4d4d-a3ca-a18e7bb4c03e",
   "metadata": {},
   "outputs": [],
   "source": [
    "db=FAISS.from_documents(documents=splittedDocuments,embedding=OpenAIEmbeddings())"
   ]
  },
  {
   "cell_type": "markdown",
   "id": "5aa44750-f937-4769-a84b-c045b76edff4",
   "metadata": {},
   "source": [
    "<h3>Similarity Search</h3>"
   ]
  },
  {
   "cell_type": "code",
   "execution_count": 15,
   "id": "35d948ba-2f8d-489b-8c87-700cfb54a3b1",
   "metadata": {},
   "outputs": [],
   "source": [
    "query=\"What did the president say about Ketanji Brown Jackson?\""
   ]
  },
  {
   "cell_type": "code",
   "execution_count": 16,
   "id": "f9cbd975-378d-49fd-90d7-04430e6f1438",
   "metadata": {},
   "outputs": [
    {
     "data": {
      "text/plain": [
       "[Document(id='4fe7ea92-e74a-4f5d-b898-cebc26a39308', metadata={'source': 'data\\\\letters\\\\state_of_the_union.txt'}, page_content='Tonight. I call on the Senate to: Pass the Freedom to Vote Act. Pass the John Lewis Voting Rights Act. And while you’re at it, pass the Disclose Act so Americans can know who is funding our elections. \\n\\nTonight, I’d like to honor someone who has dedicated his life to serve this country: Justice Stephen Breyer—an Army veteran, Constitutional scholar, and retiring Justice of the United States Supreme Court. Justice Breyer, thank you for your service. \\n\\nOne of the most serious constitutional responsibilities a President has is nominating someone to serve on the United States Supreme Court. \\n\\nAnd I did that 4 days ago, when I nominated Circuit Court of Appeals Judge Ketanji Brown Jackson. One of our nation’s top legal minds, who will continue Justice Breyer’s legacy of excellence.'),\n",
       " Document(id='adde7165-11f2-4565-a288-e4d08ed5fb7f', metadata={'source': 'data\\\\letters\\\\state_of_the_union.txt'}, page_content='A former top litigator in private practice. A former federal public defender. And from a family of public school educators and police officers. A consensus builder. Since she’s been nominated, she’s received a broad range of support—from the Fraternal Order of Police to former judges appointed by Democrats and Republicans. \\n\\nAnd if we are to advance liberty and justice, we need to secure the Border and fix the immigration system. \\n\\nWe can do both. At our border, we’ve installed new technology like cutting-edge scanners to better detect drug smuggling.  \\n\\nWe’ve set up joint patrols with Mexico and Guatemala to catch more human traffickers.  \\n\\nWe’re putting in place dedicated immigration judges so families fleeing persecution and violence can have their cases heard faster. \\n\\nWe’re securing commitments and supporting partners in South and Central America to host more refugees and secure their own borders.')]"
      ]
     },
     "execution_count": 16,
     "metadata": {},
     "output_type": "execute_result"
    }
   ],
   "source": [
    "docs=db.similarity_search(query=query,k=2)\n",
    "docs"
   ]
  },
  {
   "cell_type": "markdown",
   "id": "dbb69292-db5e-4ad6-b42f-53968e216b23",
   "metadata": {},
   "source": [
    "<h3>Similarity Search by Vector</h3>"
   ]
  },
  {
   "cell_type": "code",
   "execution_count": 18,
   "id": "f743e7c5-fe89-4008-9bdb-bfe5cd2d0e60",
   "metadata": {},
   "outputs": [],
   "source": [
    "embedding_vector=OpenAIEmbeddings().embed_query(text=query)"
   ]
  },
  {
   "cell_type": "code",
   "execution_count": 19,
   "id": "f946de75-9f49-435e-818b-615edfe1a607",
   "metadata": {},
   "outputs": [],
   "source": [
    "docs=db.similarity_search_by_vector(embedding=embedding_vector,k=2)"
   ]
  },
  {
   "cell_type": "code",
   "execution_count": 20,
   "id": "9b55ada6-33d1-4990-82e1-f5f8f5dfda06",
   "metadata": {},
   "outputs": [
    {
     "data": {
      "text/plain": [
       "[Document(id='4fe7ea92-e74a-4f5d-b898-cebc26a39308', metadata={'source': 'data\\\\letters\\\\state_of_the_union.txt'}, page_content='Tonight. I call on the Senate to: Pass the Freedom to Vote Act. Pass the John Lewis Voting Rights Act. And while you’re at it, pass the Disclose Act so Americans can know who is funding our elections. \\n\\nTonight, I’d like to honor someone who has dedicated his life to serve this country: Justice Stephen Breyer—an Army veteran, Constitutional scholar, and retiring Justice of the United States Supreme Court. Justice Breyer, thank you for your service. \\n\\nOne of the most serious constitutional responsibilities a President has is nominating someone to serve on the United States Supreme Court. \\n\\nAnd I did that 4 days ago, when I nominated Circuit Court of Appeals Judge Ketanji Brown Jackson. One of our nation’s top legal minds, who will continue Justice Breyer’s legacy of excellence.'),\n",
       " Document(id='adde7165-11f2-4565-a288-e4d08ed5fb7f', metadata={'source': 'data\\\\letters\\\\state_of_the_union.txt'}, page_content='A former top litigator in private practice. A former federal public defender. And from a family of public school educators and police officers. A consensus builder. Since she’s been nominated, she’s received a broad range of support—from the Fraternal Order of Police to former judges appointed by Democrats and Republicans. \\n\\nAnd if we are to advance liberty and justice, we need to secure the Border and fix the immigration system. \\n\\nWe can do both. At our border, we’ve installed new technology like cutting-edge scanners to better detect drug smuggling.  \\n\\nWe’ve set up joint patrols with Mexico and Guatemala to catch more human traffickers.  \\n\\nWe’re putting in place dedicated immigration judges so families fleeing persecution and violence can have their cases heard faster. \\n\\nWe’re securing commitments and supporting partners in South and Central America to host more refugees and secure their own borders.')]"
      ]
     },
     "execution_count": 20,
     "metadata": {},
     "output_type": "execute_result"
    }
   ],
   "source": [
    "docs"
   ]
  },
  {
   "cell_type": "markdown",
   "id": "2e7b4eb6-832a-4c04-8794-c8cdfcf36843",
   "metadata": {},
   "source": [
    "<h3>Use QDRANT from Async Vectorstore</h3>"
   ]
  },
  {
   "cell_type": "code",
   "execution_count": 26,
   "id": "7fb78fff-2c2b-45e9-a767-d8fe1ecc7ed2",
   "metadata": {},
   "outputs": [],
   "source": [
    "# start the docker dontainer for qdrant\n",
    "db = await Qdrant.afrom_documents(documents=splittedDocuments, embedding=OpenAIEmbeddings(), url=\"http://localhost:6333\")"
   ]
  },
  {
   "cell_type": "code",
   "execution_count": 27,
   "id": "941cb55c-4338-4605-9dae-c706df7e0487",
   "metadata": {},
   "outputs": [
    {
     "data": {
      "text/plain": [
       "[Document(metadata={'source': 'data\\\\letters\\\\state_of_the_union.txt', '_id': '21ee8f51-3feb-4712-a31b-082c32402565', '_collection_name': '0f3b5b2cf0da4df789f4d597b8ea6d19'}, page_content='Tonight. I call on the Senate to: Pass the Freedom to Vote Act. Pass the John Lewis Voting Rights Act. And while you’re at it, pass the Disclose Act so Americans can know who is funding our elections. \\n\\nTonight, I’d like to honor someone who has dedicated his life to serve this country: Justice Stephen Breyer—an Army veteran, Constitutional scholar, and retiring Justice of the United States Supreme Court. Justice Breyer, thank you for your service. \\n\\nOne of the most serious constitutional responsibilities a President has is nominating someone to serve on the United States Supreme Court. \\n\\nAnd I did that 4 days ago, when I nominated Circuit Court of Appeals Judge Ketanji Brown Jackson. One of our nation’s top legal minds, who will continue Justice Breyer’s legacy of excellence.'),\n",
       " Document(metadata={'source': 'data\\\\letters\\\\state_of_the_union.txt', '_id': '0ea95a2d-711e-40d4-9316-12669d9da677', '_collection_name': '0f3b5b2cf0da4df789f4d597b8ea6d19'}, page_content='A former top litigator in private practice. A former federal public defender. And from a family of public school educators and police officers. A consensus builder. Since she’s been nominated, she’s received a broad range of support—from the Fraternal Order of Police to former judges appointed by Democrats and Republicans. \\n\\nAnd if we are to advance liberty and justice, we need to secure the Border and fix the immigration system. \\n\\nWe can do both. At our border, we’ve installed new technology like cutting-edge scanners to better detect drug smuggling.  \\n\\nWe’ve set up joint patrols with Mexico and Guatemala to catch more human traffickers.  \\n\\nWe’re putting in place dedicated immigration judges so families fleeing persecution and violence can have their cases heard faster. \\n\\nWe’re securing commitments and supporting partners in South and Central America to host more refugees and secure their own borders.')]"
      ]
     },
     "execution_count": 27,
     "metadata": {},
     "output_type": "execute_result"
    }
   ],
   "source": [
    "docs=db.similarity_search(query=query,k=2)\n",
    "docs"
   ]
  }
 ],
 "metadata": {
  "kernelspec": {
   "display_name": "lcnenv",
   "language": "python",
   "name": "python3"
  },
  "language_info": {
   "codemirror_mode": {
    "name": "ipython",
    "version": 3
   },
   "file_extension": ".py",
   "mimetype": "text/x-python",
   "name": "python",
   "nbconvert_exporter": "python",
   "pygments_lexer": "ipython3",
   "version": "3.11.11"
  }
 },
 "nbformat": 4,
 "nbformat_minor": 5
}
